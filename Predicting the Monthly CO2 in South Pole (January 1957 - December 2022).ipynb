{
 "cells": [
  {
   "cell_type": "markdown",
   "id": "d3a94012",
   "metadata": {},
   "source": [
    "### About Dataset:\n",
    "Monthly average CO2 concentrations (ppm), These data are subject to revision based on recalibration of standard gases. (the record is flask-based.) \n",
    "<br>\n",
    "<br>Source: R. F. Keeling and S. J. Walker\n",
    "<br>Scripps CO2 Program ( http://scrippsco2.ucsd.edu )\n",
    "<br>Scripps Institution of Oceanography (SIO)\n",
    "<br>University of California\n",
    "<br>La Jolla, California USA 92093-0244\n",
    "\n",
    "Refernce:\n",
    "C. D. Keeling, S. C. Piper, R. B. Bacastow, M. Wahlen, T. P. Whorf, M. Heimann, and H. A. Meijer, Exchanges of atmospheric CO2 and 13CO2 with the terrestrial biosphere and oceans from 1978 to 2000.  I. Global aspects, SIO Reference Series, No. 01-06, Scripps Institution of Oceanography, San Diego, 88 pages, 2001.\n",
    "\n",
    "**Measurment method:**\n",
    "<br> Monthly CO2 concentrations in micro-mol CO2 per mole (ppm) reported on the 2012 SIO manometric mole fraction scale. alues have been adjusted to 24:00 hours on the 15th of each month. Then after a seasonal adjustment is applyed to remove the quasi-regular seasonal cycle (The adjustment involves subtracting from the data a 4-harmonic fit with a linear gain factor)\n",
    "<br>Ther are ## missing values in the dataset, these data would be filled by smoothed version of the data generated from a stiff cubic spline function plus 4-harmonic functions with linear gain then with the seasonal cycle removed. \n",
    "\n",
    "<br>Missing values are denoted by -99.99.\n",
    "<br>**The model will be created by column 10.**\n",
    "## About Approach\n",
    "The LSTM approach is used to forecast the change of CO2 concentration in south pole. Architecting some Neural Network models, and applying them on test set, their accuracies has been found. Then the forecasting model has been designed by the best of models. Finaly, the behavior of CO2 concentration in south pole hase been forecasted till end of 2029. "
   ]
  },
  {
   "cell_type": "markdown",
   "id": "7d1c8a44",
   "metadata": {},
   "source": [
    "## Creating Model"
   ]
  },
  {
   "cell_type": "code",
   "execution_count": 269,
   "id": "02d5d371",
   "metadata": {},
   "outputs": [],
   "source": [
    "#importing Libraries\n",
    "import pandas as pd\n",
    "import numpy as np\n",
    "\n",
    "%matplotlib inline\n",
    "import matplotlib.pyplot as plt\n",
    "\n",
    "from datetime import datetime\n",
    "from statsmodels.tsa.seasonal import seasonal_decompose\n",
    "\n",
    "\n",
    "\n",
    "from sklearn.preprocessing import MinMaxScaler\n",
    "from sklearn.metrics import mean_absolute_error\n",
    "\n",
    "from tensorflow.keras.preprocessing.sequence import TimeseriesGenerator\n",
    "\n",
    "import tensorflow as tf\n",
    "from tensorflow.keras.models import Sequential\n",
    "from tensorflow.keras.layers import Dense\n",
    "from tensorflow.keras.layers import LSTM\n",
    "from tensorflow.keras.callbacks import EarlyStopping\n",
    "\n",
    "from keras.models import load_model"
   ]
  },
  {
   "cell_type": "markdown",
   "id": "0bd06e99",
   "metadata": {},
   "source": [
    "### Data Preprocessing"
   ]
  },
  {
   "cell_type": "code",
   "execution_count": 3,
   "id": "0586e722",
   "metadata": {},
   "outputs": [
    {
     "data": {
      "text/html": [
       "<div>\n",
       "<style scoped>\n",
       "    .dataframe tbody tr th:only-of-type {\n",
       "        vertical-align: middle;\n",
       "    }\n",
       "\n",
       "    .dataframe tbody tr th {\n",
       "        vertical-align: top;\n",
       "    }\n",
       "\n",
       "    .dataframe thead th {\n",
       "        text-align: right;\n",
       "    }\n",
       "</style>\n",
       "<table border=\"1\" class=\"dataframe\">\n",
       "  <thead>\n",
       "    <tr style=\"text-align: right;\">\n",
       "      <th></th>\n",
       "      <th>Yr</th>\n",
       "      <th>Mn</th>\n",
       "      <th>CO2 (ppm)</th>\n",
       "    </tr>\n",
       "  </thead>\n",
       "  <tbody>\n",
       "    <tr>\n",
       "      <th>0</th>\n",
       "      <td>1957</td>\n",
       "      <td>1</td>\n",
       "      <td>312.83</td>\n",
       "    </tr>\n",
       "    <tr>\n",
       "      <th>1</th>\n",
       "      <td>1957</td>\n",
       "      <td>2</td>\n",
       "      <td>312.95</td>\n",
       "    </tr>\n",
       "    <tr>\n",
       "      <th>2</th>\n",
       "      <td>1957</td>\n",
       "      <td>3</td>\n",
       "      <td>313.07</td>\n",
       "    </tr>\n",
       "    <tr>\n",
       "      <th>3</th>\n",
       "      <td>1957</td>\n",
       "      <td>4</td>\n",
       "      <td>313.20</td>\n",
       "    </tr>\n",
       "    <tr>\n",
       "      <th>4</th>\n",
       "      <td>1957</td>\n",
       "      <td>5</td>\n",
       "      <td>313.32</td>\n",
       "    </tr>\n",
       "  </tbody>\n",
       "</table>\n",
       "</div>"
      ],
      "text/plain": [
       "     Yr  Mn  CO2 (ppm)\n",
       "0  1957   1     312.83\n",
       "1  1957   2     312.95\n",
       "2  1957   3     313.07\n",
       "3  1957   4     313.20\n",
       "4  1957   5     313.32"
      ]
     },
     "execution_count": 3,
     "metadata": {},
     "output_type": "execute_result"
    }
   ],
   "source": [
    "# step 2: importing TimeSeries Dataset\n",
    "df = pd.read_excel(\"Monthly CO2 in South Pole monthly_merge_co2_spo.xlsx\")#, index_col='DATE', parse_dates=True)\n",
    "df.head()"
   ]
  },
  {
   "cell_type": "code",
   "execution_count": 4,
   "id": "24dc7022",
   "metadata": {},
   "outputs": [
    {
     "data": {
      "text/plain": [
       "792"
      ]
     },
     "execution_count": 4,
     "metadata": {},
     "output_type": "execute_result"
    }
   ],
   "source": [
    "len(df)"
   ]
  },
  {
   "cell_type": "code",
   "execution_count": 5,
   "id": "2635f396",
   "metadata": {},
   "outputs": [
    {
     "data": {
      "text/plain": [
       "Index(['Yr', 'Mn', 'CO2 (ppm)'], dtype='object')"
      ]
     },
     "execution_count": 5,
     "metadata": {},
     "output_type": "execute_result"
    }
   ],
   "source": [
    "df.columns"
   ]
  },
  {
   "cell_type": "code",
   "execution_count": 6,
   "id": "ba2f312b",
   "metadata": {},
   "outputs": [
    {
     "data": {
      "text/html": [
       "<div>\n",
       "<style scoped>\n",
       "    .dataframe tbody tr th:only-of-type {\n",
       "        vertical-align: middle;\n",
       "    }\n",
       "\n",
       "    .dataframe tbody tr th {\n",
       "        vertical-align: top;\n",
       "    }\n",
       "\n",
       "    .dataframe thead th {\n",
       "        text-align: right;\n",
       "    }\n",
       "</style>\n",
       "<table border=\"1\" class=\"dataframe\">\n",
       "  <thead>\n",
       "    <tr style=\"text-align: right;\">\n",
       "      <th></th>\n",
       "      <th>CO2 (ppm)</th>\n",
       "    </tr>\n",
       "    <tr>\n",
       "      <th>Date</th>\n",
       "      <th></th>\n",
       "    </tr>\n",
       "  </thead>\n",
       "  <tbody>\n",
       "    <tr>\n",
       "      <th>1957-01-15</th>\n",
       "      <td>312.83</td>\n",
       "    </tr>\n",
       "    <tr>\n",
       "      <th>1957-02-15</th>\n",
       "      <td>312.95</td>\n",
       "    </tr>\n",
       "    <tr>\n",
       "      <th>1957-03-15</th>\n",
       "      <td>313.07</td>\n",
       "    </tr>\n",
       "    <tr>\n",
       "      <th>1957-04-15</th>\n",
       "      <td>313.20</td>\n",
       "    </tr>\n",
       "    <tr>\n",
       "      <th>1957-05-15</th>\n",
       "      <td>313.32</td>\n",
       "    </tr>\n",
       "  </tbody>\n",
       "</table>\n",
       "</div>"
      ],
      "text/plain": [
       "            CO2 (ppm)\n",
       "Date                 \n",
       "1957-01-15     312.83\n",
       "1957-02-15     312.95\n",
       "1957-03-15     313.07\n",
       "1957-04-15     313.20\n",
       "1957-05-15     313.32"
      ]
     },
     "execution_count": 6,
     "metadata": {},
     "output_type": "execute_result"
    }
   ],
   "source": [
    "Date_L = []\n",
    "for i in range(len(df)):\n",
    "    d= str(df['Yr'][i]) + \"-\" +str(df['Mn'][i]) + \"-15\"\n",
    "    Date_L.append(d)\n",
    "    i= i+1\n",
    "    \n",
    "df['Date'] = Date_L\n",
    "\n",
    "df['Date'] = pd.to_datetime(df['Date'])\n",
    "\n",
    "df.set_index('Date', inplace=True)\n",
    "df = df[[\"CO2 (ppm)\"]]\n",
    "df.head()"
   ]
  },
  {
   "cell_type": "code",
   "execution_count": 7,
   "id": "c40592f7",
   "metadata": {},
   "outputs": [
    {
     "data": {
      "text/plain": [
       "pandas.core.indexes.datetimes.DatetimeIndex"
      ]
     },
     "execution_count": 7,
     "metadata": {},
     "output_type": "execute_result"
    }
   ],
   "source": [
    "type(df.index)"
   ]
  },
  {
   "cell_type": "markdown",
   "id": "45a4955d",
   "metadata": {},
   "source": [
    "### Time Series"
   ]
  },
  {
   "cell_type": "code",
   "execution_count": 8,
   "id": "d7ad28aa",
   "metadata": {},
   "outputs": [
    {
     "data": {
      "text/plain": [
       "<AxesSubplot:xlabel='Date'>"
      ]
     },
     "execution_count": 8,
     "metadata": {},
     "output_type": "execute_result"
    },
    {
     "data": {
      "image/png": "[encoded data removed]",
      "text/plain": [
       "<Figure size 864x360 with 1 Axes>"
      ]
     },
     "metadata": {
      "needs_background": "light"
     },
     "output_type": "display_data"
    }
   ],
   "source": [
    "df.plot(figsize= (12,5), c =\"g\")"
   ]
  },
  {
   "cell_type": "markdown",
   "id": "8afacc3f",
   "metadata": {},
   "source": [
    "Wow!! **What a crazy rising in CO2!!**"
   ]
  },
  {
   "cell_type": "code",
   "execution_count": 9,
   "id": "f417b80c",
   "metadata": {},
   "outputs": [],
   "source": [
    "#@\n",
    "#df.index.freq = \"ML\"\n",
    "#df_component = seasonal_decompose(df[\"CO2 (ppm)\"])\n",
    "#df_component"
   ]
  },
  {
   "cell_type": "markdown",
   "id": "ed2b4d31",
   "metadata": {},
   "source": [
    "# Creating Prediction models\n",
    "<br>**Target is creating a LSTM model will forecast the concentration of CO2 monthly in south pole at year 2030 (next 7 years from when the model is defined)**\n",
    "<br>So, the length of LSTM model is 84 months (=7*12).\n",
    "<br>The len test set is considered 120 months (10 years), this is the 15% of dataset. \n",
    "\n"
   ]
  },
  {
   "cell_type": "code",
   "execution_count": 10,
   "id": "c45342e9",
   "metadata": {},
   "outputs": [],
   "source": [
    "# Train Test Split regarding Seasonality of TimeSery\n",
    "\n",
    "test = df.iloc[-120:] # The testsetr includs last 12 years or 120 month\n",
    "train = df.iloc[:-120]\n",
    "\n",
    "#train.tail(2)\n",
    "#test.head(2)"
   ]
  },
  {
   "cell_type": "code",
   "execution_count": 11,
   "id": "a779d754",
   "metadata": {},
   "outputs": [],
   "source": [
    "# Scalind Datasets\n",
    "\n",
    "scaler = MinMaxScaler()\n",
    "\n",
    "scaled_train = scaler.fit_transform(train)\n",
    "scaled_test = scaler.transform(test)"
   ]
  },
  {
   "cell_type": "markdown",
   "id": "5eabff68",
   "metadata": {},
   "source": [
    "## LSTM model"
   ]
  },
  {
   "cell_type": "markdown",
   "id": "7f2f73c1",
   "metadata": {},
   "source": [
    "#### Creating TimeSeries Generator on scaled_train and Validation Generator on scaled_test"
   ]
  },
  {
   "cell_type": "code",
   "execution_count": 12,
   "id": "7d8685b1",
   "metadata": {},
   "outputs": [],
   "source": [
    "length = 84"
   ]
  },
  {
   "cell_type": "code",
   "execution_count": 13,
   "id": "fdc95738",
   "metadata": {},
   "outputs": [],
   "source": [
    "# scaled_train is used to reproduce itself\n",
    "generator = TimeseriesGenerator(scaled_train, scaled_train, length=length, batch_size=1)"
   ]
  },
  {
   "cell_type": "code",
   "execution_count": 14,
   "id": "aea687cf",
   "metadata": {},
   "outputs": [
    {
     "name": "stdout",
     "output_type": "stream",
     "text": [
      "X.flatten() :  [0.         0.00152886 0.00305771 0.00471398 0.00624283 0.00216588\n",
      " 0.00955536 0.01108421 0.01274048 0.01426933 0.01579819 0.01911071\n",
      " 0.0186011  0.02000255 0.02484393 0.02229583 0.02344248 0.02420691\n",
      " 0.02548095 0.02650019 0.02522614 0.02841126 0.0293031  0.03032233\n",
      " 0.02981271 0.03363486 0.0347815  0.03388967 0.0347815  0.03567333\n",
      " 0.03643776 0.03541852 0.03681998 0.03911326 0.0401325  0.04076952\n",
      " 0.04166136 0.04255319 0.04331762 0.04408205 0.04484648 0.04828641\n",
      " 0.04892343 0.0453561  0.04790419 0.04854122 0.04930564 0.04994267\n",
      " 0.0507071  0.05134412 0.05198114 0.05274557 0.05503886 0.05414703\n",
      " 0.05172633 0.05312779 0.05771436 0.05644031 0.05988024 0.05975283\n",
      " 0.05988024 0.06077207 0.06000764 0.06038986 0.06013505 0.05911581\n",
      " 0.0560581  0.05669512 0.06026245 0.06357498 0.06446681 0.07172888\n",
      " 0.06854376 0.06854376 0.06523124 0.07032743 0.07389476 0.07147407\n",
      " 0.06854376 0.0694356  0.06663269 0.07262072 0.07172888 0.0721111 ]\n",
      "\n",
      "y :  [[0.07249331]]\n"
     ]
    }
   ],
   "source": [
    "# What does the first batch look like?\n",
    "X,y = generator[0]\n",
    "print(\"X.flatten() : \", X.flatten())\n",
    "print(\"\\ny : \", y)"
   ]
  },
  {
   "cell_type": "code",
   "execution_count": 15,
   "id": "85ce1911",
   "metadata": {},
   "outputs": [],
   "source": [
    "# Creating Validation Generator on scaled_test\n",
    "validation_generator = TimeseriesGenerator(scaled_test,scaled_test, length=length, batch_size=1)"
   ]
  },
  {
   "cell_type": "markdown",
   "id": "be1a38c9",
   "metadata": {},
   "source": [
    "### Architecting Neural Network for LSTM model"
   ]
  },
  {
   "cell_type": "code",
   "execution_count": 16,
   "id": "3abddb60",
   "metadata": {},
   "outputs": [],
   "source": [
    "# Architecting 1st Model"
   ]
  },
  {
   "cell_type": "code",
   "execution_count": 17,
   "id": "6ee1d739",
   "metadata": {},
   "outputs": [],
   "source": [
    "n_features = 1 # n_features: the number of features in TimeSeries (here is 1 feature which changed monthly)\n",
    "# define model\n",
    "model = Sequential()\n",
    "model.add(LSTM(500, activation='relu', input_shape=(length, n_features)))#\n",
    "model.add(Dense(1)) # model Output is one\n",
    "model.compile(optimizer='adam', loss='mse')"
   ]
  },
  {
   "cell_type": "code",
   "execution_count": 18,
   "id": "3581027d",
   "metadata": {},
   "outputs": [
    {
     "name": "stdout",
     "output_type": "stream",
     "text": [
      "Model: \"sequential\"\n",
      "_________________________________________________________________\n",
      " Layer (type)                Output Shape              Param #   \n",
      "=================================================================\n",
      " lstm (LSTM)                 (None, 500)               1004000   \n",
      "                                                                 \n",
      " dense (Dense)               (None, 1)                 501       \n",
      "                                                                 \n",
      "=================================================================\n",
      "Total params: 1,004,501\n",
      "Trainable params: 1,004,501\n",
      "Non-trainable params: 0\n",
      "_________________________________________________________________\n"
     ]
    }
   ],
   "source": [
    "model.summary()"
   ]
  },
  {
   "cell_type": "markdown",
   "id": "568b4419",
   "metadata": {},
   "source": [
    "#### EarlyStopping on generator"
   ]
  },
  {
   "cell_type": "code",
   "execution_count": 19,
   "id": "e3d627bc",
   "metadata": {},
   "outputs": [
    {
     "name": "stderr",
     "output_type": "stream",
     "text": [
      "C:\\Users\\resea\\AppData\\Local\\Temp\\ipykernel_8052\\3307063739.py:4: UserWarning: `Model.fit_generator` is deprecated and will be removed in a future version. Please use `Model.fit`, which supports generators.\n",
      "  model.fit_generator(generator,epochs=20,\n"
     ]
    },
    {
     "name": "stdout",
     "output_type": "stream",
     "text": [
      "Epoch 1/20\n",
      "588/588 [==============================] - 150s 249ms/step - loss: 87207120.0000 - val_loss: 1.3848\n",
      "Epoch 2/20\n",
      "588/588 [==============================] - 155s 263ms/step - loss: 0.2947 - val_loss: 1.4850\n",
      "Epoch 3/20\n",
      "588/588 [==============================] - 146s 248ms/step - loss: 8560983.0000 - val_loss: 1.5893\n"
     ]
    },
    {
     "data": {
      "text/plain": [
       "<keras.callbacks.History at 0x1c0c23f1640>"
      ]
     },
     "execution_count": 19,
     "metadata": {},
     "output_type": "execute_result"
    }
   ],
   "source": [
    "early_stop = EarlyStopping(monitor='val_loss',patience=2)\n",
    "\n",
    "# fit model\n",
    "model.fit_generator(generator,epochs=20,\n",
    "                    validation_data=validation_generator,\n",
    "                   callbacks=[early_stop])"
   ]
  },
  {
   "cell_type": "code",
   "execution_count": 20,
   "id": "f1d59f00",
   "metadata": {},
   "outputs": [],
   "source": [
    "losses = pd.DataFrame(model.history.history)"
   ]
  },
  {
   "cell_type": "code",
   "execution_count": 21,
   "id": "b79c240a",
   "metadata": {},
   "outputs": [
    {
     "data": {
      "text/plain": [
       "<AxesSubplot:>"
      ]
     },
     "execution_count": 21,
     "metadata": {},
     "output_type": "execute_result"
    },
    {
     "data": {
      "image/png": "[encoded data removed]",
      "text/plain": [
       "<Figure size 432x288 with 1 Axes>"
      ]
     },
     "metadata": {
      "needs_background": "light"
     },
     "output_type": "display_data"
    }
   ],
   "source": [
    "losses.plot()"
   ]
  },
  {
   "cell_type": "markdown",
   "id": "52db525f",
   "metadata": {},
   "source": [
    "#### Evaluating model on Test Data"
   ]
  },
  {
   "cell_type": "code",
   "execution_count": 67,
   "id": "815a9cc9",
   "metadata": {},
   "outputs": [],
   "source": [
    "# Predicted 1st value of testset"
   ]
  },
  {
   "cell_type": "code",
   "execution_count": 68,
   "id": "08550932",
   "metadata": {},
   "outputs": [
    {
     "data": {
      "text/plain": [
       "(84, 1)"
      ]
     },
     "execution_count": 68,
     "metadata": {},
     "output_type": "execute_result"
    }
   ],
   "source": [
    "first_eval_batch = scaled_train[-length:]\n",
    "first_eval_batch.shape # (n_input, n_features)"
   ]
  },
  {
   "cell_type": "code",
   "execution_count": 69,
   "id": "3bb4bd76",
   "metadata": {},
   "outputs": [
    {
     "name": "stdout",
     "output_type": "stream",
     "text": [
      "1/1 [==============================] - 0s 67ms/step\n"
     ]
    },
    {
     "data": {
      "text/plain": [
       "array([[-0.00505533]], dtype=float32)"
      ]
     },
     "execution_count": 69,
     "metadata": {},
     "output_type": "execute_result"
    }
   ],
   "source": [
    "n_input = 84\n",
    "n_features\n",
    "first_eval_batch = first_eval_batch.reshape((1, n_input, n_features))\n",
    "model.predict(first_eval_batch)"
   ]
  },
  {
   "cell_type": "code",
   "execution_count": 70,
   "id": "8616685b",
   "metadata": {},
   "outputs": [
    {
     "data": {
      "text/plain": [
       "array([1.00101924])"
      ]
     },
     "execution_count": 70,
     "metadata": {},
     "output_type": "execute_result"
    }
   ],
   "source": [
    "scaled_test[0]"
   ]
  },
  {
   "cell_type": "code",
   "execution_count": 71,
   "id": "0a25aea5",
   "metadata": {},
   "outputs": [
    {
     "data": {
      "text/plain": [
       "1.159455556971164"
      ]
     },
     "execution_count": 71,
     "metadata": {},
     "output_type": "execute_result"
    }
   ],
   "source": [
    "scaled_test.mean()"
   ]
  },
  {
   "cell_type": "code",
   "execution_count": 72,
   "id": "5f30b290",
   "metadata": {},
   "outputs": [
    {
     "name": "stdout",
     "output_type": "stream",
     "text": [
      "1/1 [==============================] - 0s 66ms/step\n",
      "1/1 [==============================] - 0s 51ms/step\n",
      "1/1 [==============================] - 0s 51ms/step\n",
      "1/1 [==============================] - 0s 50ms/step\n",
      "1/1 [==============================] - 0s 51ms/step\n",
      "1/1 [==============================] - 0s 50ms/step\n",
      "1/1 [==============================] - 0s 50ms/step\n",
      "1/1 [==============================] - 0s 51ms/step\n",
      "1/1 [==============================] - 0s 54ms/step\n",
      "1/1 [==============================] - 0s 59ms/step\n",
      "1/1 [==============================] - 0s 54ms/step\n",
      "1/1 [==============================] - 0s 54ms/step\n",
      "1/1 [==============================] - 0s 54ms/step\n",
      "1/1 [==============================] - 0s 69ms/step\n",
      "1/1 [==============================] - 0s 66ms/step\n",
      "1/1 [==============================] - 0s 66ms/step\n",
      "1/1 [==============================] - 0s 51ms/step\n",
      "1/1 [==============================] - 0s 49ms/step\n",
      "1/1 [==============================] - 0s 51ms/step\n",
      "1/1 [==============================] - 0s 50ms/step\n",
      "1/1 [==============================] - 0s 51ms/step\n",
      "1/1 [==============================] - 0s 51ms/step\n",
      "1/1 [==============================] - 0s 50ms/step\n",
      "1/1 [==============================] - 0s 53ms/step\n",
      "1/1 [==============================] - 0s 55ms/step\n",
      "1/1 [==============================] - 0s 54ms/step\n",
      "1/1 [==============================] - 0s 52ms/step\n",
      "1/1 [==============================] - 0s 51ms/step\n",
      "1/1 [==============================] - 0s 50ms/step\n",
      "1/1 [==============================] - 0s 54ms/step\n",
      "1/1 [==============================] - 0s 56ms/step\n",
      "1/1 [==============================] - 0s 52ms/step\n",
      "1/1 [==============================] - 0s 54ms/step\n",
      "1/1 [==============================] - 0s 51ms/step\n",
      "1/1 [==============================] - 0s 49ms/step\n",
      "1/1 [==============================] - 0s 50ms/step\n",
      "1/1 [==============================] - 0s 50ms/step\n",
      "1/1 [==============================] - 0s 52ms/step\n",
      "1/1 [==============================] - 0s 55ms/step\n",
      "1/1 [==============================] - 0s 52ms/step\n",
      "1/1 [==============================] - 0s 51ms/step\n",
      "1/1 [==============================] - 0s 49ms/step\n",
      "1/1 [==============================] - 0s 51ms/step\n",
      "1/1 [==============================] - 0s 50ms/step\n",
      "1/1 [==============================] - 0s 49ms/step\n",
      "1/1 [==============================] - 0s 51ms/step\n",
      "1/1 [==============================] - 0s 50ms/step\n",
      "1/1 [==============================] - 0s 51ms/step\n",
      "1/1 [==============================] - 0s 52ms/step\n",
      "1/1 [==============================] - 0s 58ms/step\n",
      "1/1 [==============================] - 0s 65ms/step\n",
      "1/1 [==============================] - 0s 60ms/step\n",
      "1/1 [==============================] - 0s 51ms/step\n",
      "1/1 [==============================] - 0s 63ms/step\n",
      "1/1 [==============================] - 0s 66ms/step\n",
      "1/1 [==============================] - 0s 49ms/step\n",
      "1/1 [==============================] - 0s 59ms/step\n",
      "1/1 [==============================] - 0s 64ms/step\n",
      "1/1 [==============================] - 0s 53ms/step\n",
      "1/1 [==============================] - 0s 50ms/step\n",
      "1/1 [==============================] - 0s 50ms/step\n",
      "1/1 [==============================] - 0s 51ms/step\n",
      "1/1 [==============================] - 0s 49ms/step\n",
      "1/1 [==============================] - 0s 49ms/step\n",
      "1/1 [==============================] - 0s 56ms/step\n",
      "1/1 [==============================] - 0s 49ms/step\n",
      "1/1 [==============================] - 0s 51ms/step\n",
      "1/1 [==============================] - 0s 51ms/step\n",
      "1/1 [==============================] - 0s 50ms/step\n",
      "1/1 [==============================] - 0s 51ms/step\n",
      "1/1 [==============================] - 0s 50ms/step\n",
      "1/1 [==============================] - 0s 50ms/step\n",
      "1/1 [==============================] - 0s 65ms/step\n",
      "1/1 [==============================] - 0s 66ms/step\n",
      "1/1 [==============================] - 0s 59ms/step\n",
      "1/1 [==============================] - 0s 51ms/step\n",
      "1/1 [==============================] - 0s 53ms/step\n",
      "1/1 [==============================] - 0s 47ms/step\n",
      "1/1 [==============================] - 0s 46ms/step\n",
      "1/1 [==============================] - 0s 51ms/step\n",
      "1/1 [==============================] - 0s 55ms/step\n",
      "1/1 [==============================] - 0s 56ms/step\n",
      "1/1 [==============================] - 0s 51ms/step\n",
      "1/1 [==============================] - 0s 64ms/step\n",
      "1/1 [==============================] - 0s 67ms/step\n",
      "1/1 [==============================] - 0s 59ms/step\n",
      "1/1 [==============================] - 0s 50ms/step\n",
      "1/1 [==============================] - 0s 51ms/step\n",
      "1/1 [==============================] - 0s 52ms/step\n",
      "1/1 [==============================] - 0s 52ms/step\n",
      "1/1 [==============================] - 0s 51ms/step\n",
      "1/1 [==============================] - 0s 51ms/step\n",
      "1/1 [==============================] - 0s 51ms/step\n",
      "1/1 [==============================] - 0s 52ms/step\n",
      "1/1 [==============================] - 0s 65ms/step\n",
      "1/1 [==============================] - 0s 65ms/step\n",
      "1/1 [==============================] - 0s 58ms/step\n",
      "1/1 [==============================] - 0s 50ms/step\n",
      "1/1 [==============================] - 0s 50ms/step\n",
      "1/1 [==============================] - 0s 58ms/step\n",
      "1/1 [==============================] - 0s 67ms/step\n",
      "1/1 [==============================] - 0s 66ms/step\n",
      "1/1 [==============================] - 0s 53ms/step\n",
      "1/1 [==============================] - 0s 49ms/step\n",
      "1/1 [==============================] - 0s 50ms/step\n",
      "1/1 [==============================] - 0s 49ms/step\n",
      "1/1 [==============================] - 0s 51ms/step\n",
      "1/1 [==============================] - 0s 51ms/step\n",
      "1/1 [==============================] - 0s 50ms/step\n",
      "1/1 [==============================] - 0s 49ms/step\n",
      "1/1 [==============================] - 0s 49ms/step\n",
      "1/1 [==============================] - 0s 50ms/step\n",
      "1/1 [==============================] - 0s 50ms/step\n",
      "1/1 [==============================] - 0s 50ms/step\n",
      "1/1 [==============================] - 0s 50ms/step\n",
      "1/1 [==============================] - 0s 50ms/step\n",
      "1/1 [==============================] - 0s 60ms/step\n",
      "1/1 [==============================] - 0s 71ms/step\n",
      "1/1 [==============================] - 0s 53ms/step\n",
      "1/1 [==============================] - 0s 48ms/step\n"
     ]
    }
   ],
   "source": [
    "# Producing the values of scaled_test by model\n",
    "test_predictions = []\n",
    "\n",
    "first_eval_batch = scaled_train[-length:]\n",
    "current_batch = first_eval_batch.reshape((1, length, n_features))\n",
    "\n",
    "for i in range(len(test)):\n",
    "    current_pred = model.predict(current_batch)[0]\n",
    "    test_predictions.append(current_pred) \n",
    "    current_batch = np.append(current_batch[:,1:,:],[[current_pred]],axis=1)"
   ]
  },
  {
   "cell_type": "code",
   "execution_count": 79,
   "id": "8f10e918",
   "metadata": {},
   "outputs": [
    {
     "name": "stderr",
     "output_type": "stream",
     "text": [
      "C:\\Users\\resea\\AppData\\Local\\Temp\\ipykernel_8052\\2284231002.py:3: SettingWithCopyWarning: \n",
      "A value is trying to be set on a copy of a slice from a DataFrame.\n",
      "Try using .loc[row_indexer,col_indexer] = value instead\n",
      "\n",
      "See the caveats in the documentation: https://pandas.pydata.org/pandas-docs/stable/user_guide/indexing.html#returning-a-view-versus-a-copy\n",
      "  test['model_Predictions'] = true_predictions\n"
     ]
    },
    {
     "data": {
      "text/html": [
       "<div>\n",
       "<style scoped>\n",
       "    .dataframe tbody tr th:only-of-type {\n",
       "        vertical-align: middle;\n",
       "    }\n",
       "\n",
       "    .dataframe tbody tr th {\n",
       "        vertical-align: top;\n",
       "    }\n",
       "\n",
       "    .dataframe thead th {\n",
       "        text-align: right;\n",
       "    }\n",
       "</style>\n",
       "<table border=\"1\" class=\"dataframe\">\n",
       "  <thead>\n",
       "    <tr style=\"text-align: right;\">\n",
       "      <th></th>\n",
       "      <th>CO2 (ppm)</th>\n",
       "      <th>Predictions</th>\n",
       "      <th>model_Predictions</th>\n",
       "    </tr>\n",
       "    <tr>\n",
       "      <th>Date</th>\n",
       "      <th></th>\n",
       "      <th></th>\n",
       "      <th></th>\n",
       "    </tr>\n",
       "  </thead>\n",
       "  <tbody>\n",
       "    <tr>\n",
       "      <th>2013-01-15</th>\n",
       "      <td>391.40</td>\n",
       "      <td>312.433207</td>\n",
       "      <td>312.433207</td>\n",
       "    </tr>\n",
       "    <tr>\n",
       "      <th>2013-02-15</th>\n",
       "      <td>391.73</td>\n",
       "      <td>311.325790</td>\n",
       "      <td>311.325790</td>\n",
       "    </tr>\n",
       "  </tbody>\n",
       "</table>\n",
       "</div>"
      ],
      "text/plain": [
       "            CO2 (ppm)  Predictions  model_Predictions\n",
       "Date                                                 \n",
       "2013-01-15     391.40   312.433207         312.433207\n",
       "2013-02-15     391.73   311.325790         311.325790"
      ]
     },
     "execution_count": 79,
     "metadata": {},
     "output_type": "execute_result"
    }
   ],
   "source": [
    "# inverse transforming\n",
    "true_predictions = scaler.inverse_transform(test_predictions)\n",
    "test['model_Predictions'] = true_predictions\n",
    "test.head(2)"
   ]
  },
  {
   "cell_type": "code",
   "execution_count": 253,
   "id": "ca30c08c",
   "metadata": {
    "scrolled": true
   },
   "outputs": [
    {
     "data": {
      "text/plain": [
       "<AxesSubplot:xlabel='Date'>"
      ]
     },
     "execution_count": 253,
     "metadata": {},
     "output_type": "execute_result"
    },
    {
     "data": {
      "image/png": "[encoded data removed]",
      "text/plain": [
       "<Figure size 432x288 with 1 Axes>"
      ]
     },
     "metadata": {
      "needs_background": "light"
     },
     "output_type": "display_data"
    }
   ],
   "source": [
    "# step 10: ploting\n",
    "test[[\"CO2 (ppm)\", 'model_Predictions']].iloc[-30:-20].plot(figsize=(6,4))"
   ]
  },
  {
   "cell_type": "code",
   "execution_count": 254,
   "id": "95e8c83c",
   "metadata": {},
   "outputs": [
    {
     "data": {
      "text/plain": [
       "<AxesSubplot:xlabel='Date'>"
      ]
     },
     "execution_count": 254,
     "metadata": {},
     "output_type": "execute_result"
    },
    {
     "data": {
      "image/png": "[encoded data removed]",
      "text/plain": [
       "<Figure size 432x288 with 1 Axes>"
      ]
     },
     "metadata": {
      "needs_background": "light"
     },
     "output_type": "display_data"
    }
   ],
   "source": [
    "test[[\"CO2 (ppm)\", 'model_Predictions']].plot(figsize=(6,4))"
   ]
  },
  {
   "cell_type": "code",
   "execution_count": 83,
   "id": "f75de359",
   "metadata": {},
   "outputs": [
    {
     "data": {
      "text/html": [
       "<div>\n",
       "<style scoped>\n",
       "    .dataframe tbody tr th:only-of-type {\n",
       "        vertical-align: middle;\n",
       "    }\n",
       "\n",
       "    .dataframe tbody tr th {\n",
       "        vertical-align: top;\n",
       "    }\n",
       "\n",
       "    .dataframe thead th {\n",
       "        text-align: right;\n",
       "    }\n",
       "</style>\n",
       "<table border=\"1\" class=\"dataframe\">\n",
       "  <thead>\n",
       "    <tr style=\"text-align: right;\">\n",
       "      <th></th>\n",
       "      <th>CO2 (ppm)</th>\n",
       "    </tr>\n",
       "    <tr>\n",
       "      <th>Date</th>\n",
       "      <th></th>\n",
       "    </tr>\n",
       "  </thead>\n",
       "  <tbody>\n",
       "    <tr>\n",
       "      <th>2022-08-15</th>\n",
       "      <td>414.97</td>\n",
       "    </tr>\n",
       "    <tr>\n",
       "      <th>2022-09-15</th>\n",
       "      <td>415.20</td>\n",
       "    </tr>\n",
       "    <tr>\n",
       "      <th>2022-10-15</th>\n",
       "      <td>415.42</td>\n",
       "    </tr>\n",
       "    <tr>\n",
       "      <th>2022-11-15</th>\n",
       "      <td>415.65</td>\n",
       "    </tr>\n",
       "    <tr>\n",
       "      <th>2022-12-15</th>\n",
       "      <td>415.87</td>\n",
       "    </tr>\n",
       "  </tbody>\n",
       "</table>\n",
       "</div>"
      ],
      "text/plain": [
       "            CO2 (ppm)\n",
       "Date                 \n",
       "2022-08-15     414.97\n",
       "2022-09-15     415.20\n",
       "2022-10-15     415.42\n",
       "2022-11-15     415.65\n",
       "2022-12-15     415.87"
      ]
     },
     "execution_count": 83,
     "metadata": {},
     "output_type": "execute_result"
    }
   ],
   "source": [
    "df.tail()"
   ]
  },
  {
   "cell_type": "code",
   "execution_count": 84,
   "id": "8d410575",
   "metadata": {
    "scrolled": false
   },
   "outputs": [
    {
     "data": {
      "text/plain": [
       "<AxesSubplot:xlabel='Date'>"
      ]
     },
     "execution_count": 84,
     "metadata": {},
     "output_type": "execute_result"
    },
    {
     "data": {
      "image/png": "[encoded data removed]",
      "text/plain": [
       "<Figure size 432x288 with 1 Axes>"
      ]
     },
     "metadata": {
      "needs_background": "light"
     },
     "output_type": "display_data"
    }
   ],
   "source": [
    "df.iloc[-24:].plot()"
   ]
  },
  {
   "cell_type": "code",
   "execution_count": 22,
   "id": "edb2a87a",
   "metadata": {},
   "outputs": [],
   "source": [
    "# Architecting 2nd Model"
   ]
  },
  {
   "cell_type": "code",
   "execution_count": 23,
   "id": "00db12e6",
   "metadata": {},
   "outputs": [],
   "source": [
    "# Second Architect\n",
    "n_features = 1 # n_features: the number of features in TimeSeries (here is 1 feature which changed monthly)\n",
    "# define model\n",
    "model2 = Sequential()\n",
    "model2.add(LSTM(400, activation='relu', input_shape=(length, n_features)))#\n",
    "model2.add(Dense(1)) # model Output is one\n",
    "model2.compile(optimizer='adam', loss='mse')"
   ]
  },
  {
   "cell_type": "code",
   "execution_count": 24,
   "id": "e86a26f8",
   "metadata": {},
   "outputs": [
    {
     "name": "stdout",
     "output_type": "stream",
     "text": [
      "Model: \"sequential_1\"\n",
      "_________________________________________________________________\n",
      " Layer (type)                Output Shape              Param #   \n",
      "=================================================================\n",
      " lstm_1 (LSTM)               (None, 400)               643200    \n",
      "                                                                 \n",
      " dense_1 (Dense)             (None, 1)                 401       \n",
      "                                                                 \n",
      "=================================================================\n",
      "Total params: 643,601\n",
      "Trainable params: 643,601\n",
      "Non-trainable params: 0\n",
      "_________________________________________________________________\n"
     ]
    }
   ],
   "source": [
    "model2.summary()"
   ]
  },
  {
   "cell_type": "code",
   "execution_count": 25,
   "id": "6e7888c4",
   "metadata": {
    "scrolled": true
   },
   "outputs": [
    {
     "name": "stdout",
     "output_type": "stream",
     "text": [
      "Epoch 1/6\n"
     ]
    },
    {
     "name": "stderr",
     "output_type": "stream",
     "text": [
      "C:\\Users\\resea\\AppData\\Local\\Temp\\ipykernel_8052\\1095593909.py:4: UserWarning: `Model.fit_generator` is deprecated and will be removed in a future version. Please use `Model.fit`, which supports generators.\n",
      "  model2.fit_generator(generator,epochs=6,\n"
     ]
    },
    {
     "name": "stdout",
     "output_type": "stream",
     "text": [
      "588/588 [==============================] - 98s 164ms/step - loss: 0.0055 - val_loss: 6.1295e-04\n",
      "Epoch 2/6\n",
      "588/588 [==============================] - 95s 161ms/step - loss: 2.0065e-04 - val_loss: 4.2674e-05\n",
      "Epoch 3/6\n",
      "588/588 [==============================] - 95s 162ms/step - loss: 1.3486e-04 - val_loss: 1.2113e-05\n",
      "Epoch 4/6\n",
      "588/588 [==============================] - 96s 163ms/step - loss: 3.2289e-04 - val_loss: 4.8905e-06\n",
      "Epoch 5/6\n",
      "588/588 [==============================] - 96s 163ms/step - loss: 2.0410e-04 - val_loss: 2.5390e-04\n",
      "Epoch 6/6\n",
      "588/588 [==============================] - 98s 167ms/step - loss: 1.9672e-04 - val_loss: 4.2173e-06\n"
     ]
    },
    {
     "data": {
      "text/plain": [
       "<keras.callbacks.History at 0x1c0c5641ca0>"
      ]
     },
     "execution_count": 25,
     "metadata": {},
     "output_type": "execute_result"
    }
   ],
   "source": [
    "early_stop = EarlyStopping(monitor='val_loss',patience=3)\n",
    "\n",
    "# fit model\n",
    "model2.fit_generator(generator,epochs=6,\n",
    "                    validation_data=validation_generator,\n",
    "                   callbacks=[early_stop])"
   ]
  },
  {
   "cell_type": "code",
   "execution_count": 26,
   "id": "defbd2aa",
   "metadata": {},
   "outputs": [
    {
     "data": {
      "text/plain": [
       "<AxesSubplot:>"
      ]
     },
     "execution_count": 26,
     "metadata": {},
     "output_type": "execute_result"
    },
    {
     "data": {
      "image/png": "[encoded data removed]",
      "text/plain": [
       "<Figure size 432x288 with 1 Axes>"
      ]
     },
     "metadata": {
      "needs_background": "light"
     },
     "output_type": "display_data"
    }
   ],
   "source": [
    "losses2 = pd.DataFrame(model2.history.history)\n",
    "losses2.plot()"
   ]
  },
  {
   "cell_type": "markdown",
   "id": "c1724c44",
   "metadata": {},
   "source": [
    "#### Evaluating model2 on Test Data"
   ]
  },
  {
   "cell_type": "code",
   "execution_count": 43,
   "id": "19deba00",
   "metadata": {},
   "outputs": [],
   "source": [
    "# Predicted 1st value of testset"
   ]
  },
  {
   "cell_type": "code",
   "execution_count": 85,
   "id": "3abccc63",
   "metadata": {},
   "outputs": [
    {
     "data": {
      "text/plain": [
       "(84, 1)"
      ]
     },
     "execution_count": 85,
     "metadata": {},
     "output_type": "execute_result"
    }
   ],
   "source": [
    "first_eval_batch = scaled_train[-length:]\n",
    "first_eval_batch.shape # (n_input, n_features)"
   ]
  },
  {
   "cell_type": "code",
   "execution_count": 86,
   "id": "4c38af9f",
   "metadata": {},
   "outputs": [
    {
     "name": "stdout",
     "output_type": "stream",
     "text": [
      "1/1 [==============================] - 0s 51ms/step\n"
     ]
    },
    {
     "data": {
      "text/plain": [
       "array([[0.9983703]], dtype=float32)"
      ]
     },
     "execution_count": 86,
     "metadata": {},
     "output_type": "execute_result"
    }
   ],
   "source": [
    "n_input = 84\n",
    "n_features\n",
    "first_eval_batch = first_eval_batch.reshape((1, n_input, n_features))\n",
    "model2.predict(first_eval_batch)"
   ]
  },
  {
   "cell_type": "code",
   "execution_count": 87,
   "id": "50bab0eb",
   "metadata": {},
   "outputs": [
    {
     "data": {
      "text/plain": [
       "array([1.00101924])"
      ]
     },
     "execution_count": 87,
     "metadata": {},
     "output_type": "execute_result"
    }
   ],
   "source": [
    "scaled_test[0]"
   ]
  },
  {
   "cell_type": "code",
   "execution_count": 88,
   "id": "5abe3a4f",
   "metadata": {},
   "outputs": [
    {
     "data": {
      "text/plain": [
       "1.159455556971164"
      ]
     },
     "execution_count": 88,
     "metadata": {},
     "output_type": "execute_result"
    }
   ],
   "source": [
    "scaled_test.mean()"
   ]
  },
  {
   "cell_type": "code",
   "execution_count": 89,
   "id": "95315d78",
   "metadata": {},
   "outputs": [
    {
     "name": "stdout",
     "output_type": "stream",
     "text": [
      "1/1 [==============================] - 0s 49ms/step\n",
      "1/1 [==============================] - 0s 39ms/step\n",
      "1/1 [==============================] - 0s 39ms/step\n",
      "1/1 [==============================] - 0s 39ms/step\n",
      "1/1 [==============================] - 0s 37ms/step\n",
      "1/1 [==============================] - 0s 39ms/step\n",
      "1/1 [==============================] - 0s 39ms/step\n",
      "1/1 [==============================] - 0s 40ms/step\n",
      "1/1 [==============================] - 0s 38ms/step\n",
      "1/1 [==============================] - 0s 39ms/step\n",
      "1/1 [==============================] - 0s 38ms/step\n",
      "1/1 [==============================] - 0s 45ms/step\n",
      "1/1 [==============================] - 0s 38ms/step\n",
      "1/1 [==============================] - 0s 39ms/step\n",
      "1/1 [==============================] - 0s 37ms/step\n",
      "1/1 [==============================] - 0s 38ms/step\n",
      "1/1 [==============================] - 0s 41ms/step\n",
      "1/1 [==============================] - 0s 42ms/step\n",
      "1/1 [==============================] - 0s 41ms/step\n",
      "1/1 [==============================] - 0s 41ms/step\n",
      "1/1 [==============================] - 0s 42ms/step\n",
      "1/1 [==============================] - 0s 40ms/step\n",
      "1/1 [==============================] - 0s 38ms/step\n",
      "1/1 [==============================] - 0s 38ms/step\n",
      "1/1 [==============================] - 0s 37ms/step\n",
      "1/1 [==============================] - 0s 39ms/step\n",
      "1/1 [==============================] - 0s 38ms/step\n",
      "1/1 [==============================] - 0s 40ms/step\n",
      "1/1 [==============================] - 0s 39ms/step\n",
      "1/1 [==============================] - 0s 39ms/step\n",
      "1/1 [==============================] - 0s 38ms/step\n",
      "1/1 [==============================] - 0s 39ms/step\n",
      "1/1 [==============================] - 0s 38ms/step\n",
      "1/1 [==============================] - 0s 40ms/step\n",
      "1/1 [==============================] - 0s 38ms/step\n",
      "1/1 [==============================] - 0s 39ms/step\n",
      "1/1 [==============================] - 0s 37ms/step\n",
      "1/1 [==============================] - 0s 38ms/step\n",
      "1/1 [==============================] - 0s 39ms/step\n",
      "1/1 [==============================] - 0s 40ms/step\n",
      "1/1 [==============================] - 0s 52ms/step\n",
      "1/1 [==============================] - 0s 48ms/step\n",
      "1/1 [==============================] - 0s 48ms/step\n",
      "1/1 [==============================] - 0s 43ms/step\n",
      "1/1 [==============================] - 0s 39ms/step\n",
      "1/1 [==============================] - 0s 38ms/step\n",
      "1/1 [==============================] - 0s 39ms/step\n",
      "1/1 [==============================] - 0s 49ms/step\n",
      "1/1 [==============================] - 0s 47ms/step\n",
      "1/1 [==============================] - 0s 50ms/step\n",
      "1/1 [==============================] - 0s 45ms/step\n",
      "1/1 [==============================] - 0s 40ms/step\n",
      "1/1 [==============================] - 0s 39ms/step\n",
      "1/1 [==============================] - 0s 39ms/step\n",
      "1/1 [==============================] - 0s 38ms/step\n",
      "1/1 [==============================] - 0s 37ms/step\n",
      "1/1 [==============================] - 0s 39ms/step\n",
      "1/1 [==============================] - 0s 40ms/step\n",
      "1/1 [==============================] - 0s 40ms/step\n",
      "1/1 [==============================] - 0s 51ms/step\n",
      "1/1 [==============================] - 0s 51ms/step\n",
      "1/1 [==============================] - 0s 40ms/step\n",
      "1/1 [==============================] - 0s 40ms/step\n",
      "1/1 [==============================] - 0s 39ms/step\n",
      "1/1 [==============================] - 0s 50ms/step\n",
      "1/1 [==============================] - 0s 49ms/step\n",
      "1/1 [==============================] - 0s 46ms/step\n",
      "1/1 [==============================] - 0s 43ms/step\n",
      "1/1 [==============================] - 0s 41ms/step\n",
      "1/1 [==============================] - 0s 42ms/step\n",
      "1/1 [==============================] - 0s 40ms/step\n",
      "1/1 [==============================] - 0s 41ms/step\n",
      "1/1 [==============================] - 0s 41ms/step\n",
      "1/1 [==============================] - 0s 42ms/step\n",
      "1/1 [==============================] - 0s 43ms/step\n",
      "1/1 [==============================] - 0s 41ms/step\n",
      "1/1 [==============================] - 0s 41ms/step\n",
      "1/1 [==============================] - 0s 40ms/step\n",
      "1/1 [==============================] - 0s 40ms/step\n",
      "1/1 [==============================] - 0s 40ms/step\n",
      "1/1 [==============================] - 0s 39ms/step\n",
      "1/1 [==============================] - 0s 39ms/step\n",
      "1/1 [==============================] - 0s 40ms/step\n",
      "1/1 [==============================] - 0s 39ms/step\n",
      "1/1 [==============================] - 0s 38ms/step\n",
      "1/1 [==============================] - 0s 38ms/step\n",
      "1/1 [==============================] - 0s 40ms/step\n",
      "1/1 [==============================] - 0s 37ms/step\n",
      "1/1 [==============================] - 0s 38ms/step\n",
      "1/1 [==============================] - 0s 40ms/step\n",
      "1/1 [==============================] - 0s 40ms/step\n",
      "1/1 [==============================] - 0s 37ms/step\n",
      "1/1 [==============================] - 0s 38ms/step\n",
      "1/1 [==============================] - 0s 39ms/step\n",
      "1/1 [==============================] - 0s 38ms/step\n",
      "1/1 [==============================] - 0s 39ms/step\n",
      "1/1 [==============================] - 0s 39ms/step\n",
      "1/1 [==============================] - 0s 43ms/step\n",
      "1/1 [==============================] - 0s 40ms/step\n",
      "1/1 [==============================] - 0s 51ms/step\n",
      "1/1 [==============================] - 0s 50ms/step\n",
      "1/1 [==============================] - 0s 39ms/step\n",
      "1/1 [==============================] - 0s 38ms/step\n",
      "1/1 [==============================] - 0s 38ms/step\n",
      "1/1 [==============================] - 0s 37ms/step\n",
      "1/1 [==============================] - 0s 50ms/step\n",
      "1/1 [==============================] - 0s 48ms/step\n",
      "1/1 [==============================] - 0s 50ms/step\n",
      "1/1 [==============================] - 0s 38ms/step\n",
      "1/1 [==============================] - 0s 37ms/step\n",
      "1/1 [==============================] - 0s 38ms/step\n",
      "1/1 [==============================] - 0s 48ms/step\n",
      "1/1 [==============================] - 0s 44ms/step\n",
      "1/1 [==============================] - 0s 49ms/step\n",
      "1/1 [==============================] - 0s 40ms/step\n",
      "1/1 [==============================] - 0s 39ms/step\n",
      "1/1 [==============================] - 0s 51ms/step\n",
      "1/1 [==============================] - 0s 54ms/step\n",
      "1/1 [==============================] - 0s 40ms/step\n",
      "1/1 [==============================] - 0s 39ms/step\n"
     ]
    }
   ],
   "source": [
    "# Producing the values of scaled_test by model\n",
    "test_predictions = []\n",
    "\n",
    "first_eval_batch = scaled_train[-length:]\n",
    "current_batch = first_eval_batch.reshape((1, length, n_features))\n",
    "\n",
    "for i in range(len(test)):\n",
    "    current_pred = model2.predict(current_batch)[0]\n",
    "    test_predictions.append(current_pred) \n",
    "    current_batch = np.append(current_batch[:,1:,:],[[current_pred]],axis=1)"
   ]
  },
  {
   "cell_type": "code",
   "execution_count": 90,
   "id": "029314f9",
   "metadata": {},
   "outputs": [
    {
     "name": "stderr",
     "output_type": "stream",
     "text": [
      "C:\\Users\\resea\\AppData\\Local\\Temp\\ipykernel_8052\\3897207374.py:3: SettingWithCopyWarning: \n",
      "A value is trying to be set on a copy of a slice from a DataFrame.\n",
      "Try using .loc[row_indexer,col_indexer] = value instead\n",
      "\n",
      "See the caveats in the documentation: https://pandas.pydata.org/pandas-docs/stable/user_guide/indexing.html#returning-a-view-versus-a-copy\n",
      "  test['mode2_Predictions'] = true_predictions\n"
     ]
    },
    {
     "data": {
      "text/html": [
       "<div>\n",
       "<style scoped>\n",
       "    .dataframe tbody tr th:only-of-type {\n",
       "        vertical-align: middle;\n",
       "    }\n",
       "\n",
       "    .dataframe tbody tr th {\n",
       "        vertical-align: top;\n",
       "    }\n",
       "\n",
       "    .dataframe thead th {\n",
       "        text-align: right;\n",
       "    }\n",
       "</style>\n",
       "<table border=\"1\" class=\"dataframe\">\n",
       "  <thead>\n",
       "    <tr style=\"text-align: right;\">\n",
       "      <th></th>\n",
       "      <th>CO2 (ppm)</th>\n",
       "      <th>Predictions</th>\n",
       "      <th>model_Predictions</th>\n",
       "      <th>mode2_Predictions</th>\n",
       "    </tr>\n",
       "    <tr>\n",
       "      <th>Date</th>\n",
       "      <th></th>\n",
       "      <th></th>\n",
       "      <th></th>\n",
       "      <th></th>\n",
       "    </tr>\n",
       "  </thead>\n",
       "  <tbody>\n",
       "    <tr>\n",
       "      <th>2013-01-15</th>\n",
       "      <td>391.40</td>\n",
       "      <td>312.433207</td>\n",
       "      <td>312.433207</td>\n",
       "      <td>391.192084</td>\n",
       "    </tr>\n",
       "    <tr>\n",
       "      <th>2013-02-15</th>\n",
       "      <td>391.73</td>\n",
       "      <td>311.325790</td>\n",
       "      <td>311.325790</td>\n",
       "      <td>391.346442</td>\n",
       "    </tr>\n",
       "  </tbody>\n",
       "</table>\n",
       "</div>"
      ],
      "text/plain": [
       "            CO2 (ppm)  Predictions  model_Predictions  mode2_Predictions\n",
       "Date                                                                    \n",
       "2013-01-15     391.40   312.433207         312.433207         391.192084\n",
       "2013-02-15     391.73   311.325790         311.325790         391.346442"
      ]
     },
     "execution_count": 90,
     "metadata": {},
     "output_type": "execute_result"
    }
   ],
   "source": [
    "# inverse transforming\n",
    "true_predictions = scaler.inverse_transform(test_predictions)\n",
    "test['mode2_Predictions'] = true_predictions\n",
    "test.head(2)"
   ]
  },
  {
   "cell_type": "code",
   "execution_count": 248,
   "id": "40ecd844",
   "metadata": {
    "scrolled": true
   },
   "outputs": [
    {
     "data": {
      "text/plain": [
       "<AxesSubplot:xlabel='Date'>"
      ]
     },
     "execution_count": 248,
     "metadata": {},
     "output_type": "execute_result"
    },
    {
     "data": {
      "image/png": "[encoded data removed]",
      "text/plain": [
       "<Figure size 432x288 with 1 Axes>"
      ]
     },
     "metadata": {
      "needs_background": "light"
     },
     "output_type": "display_data"
    }
   ],
   "source": [
    "# step 10: ploting\n",
    "test[[\"CO2 (ppm)\", 'mode2_Predictions']].iloc[-30:-20].plot(figsize=(6,4))"
   ]
  },
  {
   "cell_type": "code",
   "execution_count": 249,
   "id": "c63f5022",
   "metadata": {},
   "outputs": [
    {
     "data": {
      "text/plain": [
       "<AxesSubplot:xlabel='Date'>"
      ]
     },
     "execution_count": 249,
     "metadata": {},
     "output_type": "execute_result"
    },
    {
     "data": {
      "image/png": "[encoded data removed]",
      "text/plain": [
       "<Figure size 432x288 with 1 Axes>"
      ]
     },
     "metadata": {
      "needs_background": "light"
     },
     "output_type": "display_data"
    }
   ],
   "source": [
    "test[[\"CO2 (ppm)\", 'mode2_Predictions']].plot(figsize=(6,4))"
   ]
  },
  {
   "cell_type": "code",
   "execution_count": 94,
   "id": "02378846",
   "metadata": {},
   "outputs": [
    {
     "data": {
      "text/html": [
       "<div>\n",
       "<style scoped>\n",
       "    .dataframe tbody tr th:only-of-type {\n",
       "        vertical-align: middle;\n",
       "    }\n",
       "\n",
       "    .dataframe tbody tr th {\n",
       "        vertical-align: top;\n",
       "    }\n",
       "\n",
       "    .dataframe thead th {\n",
       "        text-align: right;\n",
       "    }\n",
       "</style>\n",
       "<table border=\"1\" class=\"dataframe\">\n",
       "  <thead>\n",
       "    <tr style=\"text-align: right;\">\n",
       "      <th></th>\n",
       "      <th>CO2 (ppm)</th>\n",
       "    </tr>\n",
       "    <tr>\n",
       "      <th>Date</th>\n",
       "      <th></th>\n",
       "    </tr>\n",
       "  </thead>\n",
       "  <tbody>\n",
       "    <tr>\n",
       "      <th>2022-08-15</th>\n",
       "      <td>414.97</td>\n",
       "    </tr>\n",
       "    <tr>\n",
       "      <th>2022-09-15</th>\n",
       "      <td>415.20</td>\n",
       "    </tr>\n",
       "    <tr>\n",
       "      <th>2022-10-15</th>\n",
       "      <td>415.42</td>\n",
       "    </tr>\n",
       "    <tr>\n",
       "      <th>2022-11-15</th>\n",
       "      <td>415.65</td>\n",
       "    </tr>\n",
       "    <tr>\n",
       "      <th>2022-12-15</th>\n",
       "      <td>415.87</td>\n",
       "    </tr>\n",
       "  </tbody>\n",
       "</table>\n",
       "</div>"
      ],
      "text/plain": [
       "            CO2 (ppm)\n",
       "Date                 \n",
       "2022-08-15     414.97\n",
       "2022-09-15     415.20\n",
       "2022-10-15     415.42\n",
       "2022-11-15     415.65\n",
       "2022-12-15     415.87"
      ]
     },
     "execution_count": 94,
     "metadata": {},
     "output_type": "execute_result"
    }
   ],
   "source": [
    "df.tail()"
   ]
  },
  {
   "cell_type": "code",
   "execution_count": 95,
   "id": "1b8ebde5",
   "metadata": {
    "scrolled": false
   },
   "outputs": [
    {
     "data": {
      "text/plain": [
       "<AxesSubplot:xlabel='Date'>"
      ]
     },
     "execution_count": 95,
     "metadata": {},
     "output_type": "execute_result"
    },
    {
     "data": {
      "image/png": "[encoded data removed]",
      "text/plain": [
       "<Figure size 432x288 with 1 Axes>"
      ]
     },
     "metadata": {
      "needs_background": "light"
     },
     "output_type": "display_data"
    }
   ],
   "source": [
    "df.iloc[-24:].plot()"
   ]
  },
  {
   "cell_type": "code",
   "execution_count": 27,
   "id": "0c6b4bc7",
   "metadata": {},
   "outputs": [],
   "source": [
    "# Defining 3rd Model "
   ]
  },
  {
   "cell_type": "code",
   "execution_count": 28,
   "id": "c87c9c3b",
   "metadata": {},
   "outputs": [
    {
     "name": "stdout",
     "output_type": "stream",
     "text": [
      "Model: \"sequential_2\"\n",
      "_________________________________________________________________\n",
      " Layer (type)                Output Shape              Param #   \n",
      "=================================================================\n",
      " lstm_2 (LSTM)               (None, 100)               40800     \n",
      "                                                                 \n",
      " dense_2 (Dense)             (None, 1)                 101       \n",
      "                                                                 \n",
      "=================================================================\n",
      "Total params: 40,901\n",
      "Trainable params: 40,901\n",
      "Non-trainable params: 0\n",
      "_________________________________________________________________\n"
     ]
    }
   ],
   "source": [
    "# third Architect\n",
    "n_features = 1 # n_features: the number of features in TimeSeries (here is 1 feature which changed monthly)\n",
    "# define model\n",
    "model3 = Sequential()\n",
    "model3.add(LSTM(100, activation='relu', input_shape=(length, n_features)))#\n",
    "model3.add(Dense(1)) # model Output is one\n",
    "model3.compile(optimizer='adam', loss='mse')\n",
    "\n",
    "model3.summary()"
   ]
  },
  {
   "cell_type": "code",
   "execution_count": 29,
   "id": "2f598d7f",
   "metadata": {},
   "outputs": [
    {
     "name": "stdout",
     "output_type": "stream",
     "text": [
      "Epoch 1/20\n"
     ]
    },
    {
     "name": "stderr",
     "output_type": "stream",
     "text": [
      "C:\\Users\\resea\\AppData\\Local\\Temp\\ipykernel_8052\\2037023461.py:4: UserWarning: `Model.fit_generator` is deprecated and will be removed in a future version. Please use `Model.fit`, which supports generators.\n",
      "  model3.fit_generator(generator,epochs=20,\n"
     ]
    },
    {
     "name": "stdout",
     "output_type": "stream",
     "text": [
      "588/588 [==============================] - 15s 23ms/step - loss: 0.0085 - val_loss: 0.0040\n",
      "Epoch 2/20\n",
      "588/588 [==============================] - 13s 23ms/step - loss: 9.4504e-05 - val_loss: 0.0035\n",
      "Epoch 3/20\n",
      "588/588 [==============================] - 14s 23ms/step - loss: 1.1572e-04 - val_loss: 0.0040\n",
      "Epoch 4/20\n",
      "588/588 [==============================] - 13s 22ms/step - loss: 1.3375e-04 - val_loss: 0.0015\n",
      "Epoch 5/20\n",
      "588/588 [==============================] - 14s 23ms/step - loss: 6.0830e-05 - val_loss: 1.2427e-04\n",
      "Epoch 6/20\n",
      "588/588 [==============================] - 13s 22ms/step - loss: 3.4476e-04 - val_loss: 2.4415e-04\n",
      "Epoch 7/20\n",
      "588/588 [==============================] - 13s 23ms/step - loss: 3.8119e-05 - val_loss: 5.3615e-06\n",
      "Epoch 8/20\n",
      "588/588 [==============================] - 13s 22ms/step - loss: 6.3048e-05 - val_loss: 1.0790e-04\n",
      "Epoch 9/20\n",
      "588/588 [==============================] - 13s 23ms/step - loss: 8.4376e-05 - val_loss: 9.6147e-05\n",
      "Epoch 10/20\n",
      "588/588 [==============================] - 13s 23ms/step - loss: 5.8819e-05 - val_loss: 8.4778e-05\n"
     ]
    },
    {
     "data": {
      "text/plain": [
       "<keras.callbacks.History at 0x1c0c8331190>"
      ]
     },
     "execution_count": 29,
     "metadata": {},
     "output_type": "execute_result"
    }
   ],
   "source": [
    "early_stop = EarlyStopping(monitor='val_loss',patience=3)\n",
    "\n",
    "# fit model\n",
    "model3.fit_generator(generator,epochs=20,\n",
    "                    validation_data=validation_generator\n",
    "                   , callbacks=[early_stop])"
   ]
  },
  {
   "cell_type": "code",
   "execution_count": 30,
   "id": "cc2743ac",
   "metadata": {},
   "outputs": [
    {
     "data": {
      "text/plain": [
       "<AxesSubplot:>"
      ]
     },
     "execution_count": 30,
     "metadata": {},
     "output_type": "execute_result"
    },
    {
     "data": {
      "image/png": "[encoded data removed]",
      "text/plain": [
       "<Figure size 432x288 with 1 Axes>"
      ]
     },
     "metadata": {
      "needs_background": "light"
     },
     "output_type": "display_data"
    }
   ],
   "source": [
    "losses3 = pd.DataFrame(model3.history.history)\n",
    "losses3.plot()"
   ]
  },
  {
   "cell_type": "markdown",
   "id": "280c3a4f",
   "metadata": {},
   "source": [
    "**Conclusion**: *egarding the runing cost adn performance **model3** is selected with **epoch = 4**.*"
   ]
  },
  {
   "cell_type": "markdown",
   "id": "e5e71616",
   "metadata": {},
   "source": [
    "#### Evaluating model3 on Test Data"
   ]
  },
  {
   "cell_type": "code",
   "execution_count": 96,
   "id": "6c40f769",
   "metadata": {},
   "outputs": [
    {
     "data": {
      "text/plain": [
       "(84, 1)"
      ]
     },
     "execution_count": 96,
     "metadata": {},
     "output_type": "execute_result"
    }
   ],
   "source": [
    "first_eval_batch = scaled_train[-length:]\n",
    "first_eval_batch.shape # (n_input, n_features)"
   ]
  },
  {
   "cell_type": "code",
   "execution_count": 97,
   "id": "e36cea44",
   "metadata": {},
   "outputs": [
    {
     "name": "stdout",
     "output_type": "stream",
     "text": [
      "1/1 [==============================] - 0s 32ms/step\n"
     ]
    },
    {
     "data": {
      "text/plain": [
       "array([[0.9880723]], dtype=float32)"
      ]
     },
     "execution_count": 97,
     "metadata": {},
     "output_type": "execute_result"
    }
   ],
   "source": [
    "n_input = 84\n",
    "n_features\n",
    "first_eval_batch = first_eval_batch.reshape((1, n_input, n_features))\n",
    "model3.predict(first_eval_batch)"
   ]
  },
  {
   "cell_type": "code",
   "execution_count": 98,
   "id": "085a0700",
   "metadata": {},
   "outputs": [
    {
     "data": {
      "text/plain": [
       "array([1.00101924])"
      ]
     },
     "execution_count": 98,
     "metadata": {},
     "output_type": "execute_result"
    }
   ],
   "source": [
    "scaled_test[0]"
   ]
  },
  {
   "cell_type": "code",
   "execution_count": 99,
   "id": "18d549d2",
   "metadata": {},
   "outputs": [
    {
     "data": {
      "text/plain": [
       "1.159455556971164"
      ]
     },
     "execution_count": 99,
     "metadata": {},
     "output_type": "execute_result"
    }
   ],
   "source": [
    "scaled_test.mean()"
   ]
  },
  {
   "cell_type": "code",
   "execution_count": 100,
   "id": "4413ab00",
   "metadata": {},
   "outputs": [
    {
     "name": "stdout",
     "output_type": "stream",
     "text": [
      "1/1 [==============================] - 0s 33ms/step\n",
      "1/1 [==============================] - 0s 22ms/step\n",
      "1/1 [==============================] - 0s 22ms/step\n",
      "1/1 [==============================] - 0s 23ms/step\n",
      "1/1 [==============================] - 0s 23ms/step\n",
      "1/1 [==============================] - 0s 23ms/step\n",
      "1/1 [==============================] - 0s 22ms/step\n",
      "1/1 [==============================] - 0s 24ms/step\n",
      "1/1 [==============================] - 0s 24ms/step\n",
      "1/1 [==============================] - 0s 23ms/step\n",
      "1/1 [==============================] - 0s 23ms/step\n",
      "1/1 [==============================] - 0s 22ms/step\n",
      "1/1 [==============================] - 0s 24ms/step\n",
      "1/1 [==============================] - 0s 23ms/step\n",
      "1/1 [==============================] - 0s 25ms/step\n",
      "1/1 [==============================] - 0s 45ms/step\n",
      "1/1 [==============================] - 0s 26ms/step\n",
      "1/1 [==============================] - 0s 24ms/step\n",
      "1/1 [==============================] - 0s 23ms/step\n",
      "1/1 [==============================] - 0s 24ms/step\n",
      "1/1 [==============================] - 0s 25ms/step\n",
      "1/1 [==============================] - 0s 24ms/step\n",
      "1/1 [==============================] - 0s 23ms/step\n",
      "1/1 [==============================] - 0s 25ms/step\n",
      "1/1 [==============================] - 0s 23ms/step\n",
      "1/1 [==============================] - 0s 23ms/step\n",
      "1/1 [==============================] - 0s 22ms/step\n",
      "1/1 [==============================] - 0s 25ms/step\n",
      "1/1 [==============================] - 0s 24ms/step\n",
      "1/1 [==============================] - 0s 24ms/step\n",
      "1/1 [==============================] - 0s 23ms/step\n",
      "1/1 [==============================] - 0s 23ms/step\n",
      "1/1 [==============================] - 0s 22ms/step\n",
      "1/1 [==============================] - 0s 24ms/step\n",
      "1/1 [==============================] - 0s 36ms/step\n",
      "1/1 [==============================] - 0s 49ms/step\n",
      "1/1 [==============================] - 0s 34ms/step\n",
      "1/1 [==============================] - 0s 24ms/step\n",
      "1/1 [==============================] - 0s 35ms/step\n",
      "1/1 [==============================] - 0s 28ms/step\n",
      "1/1 [==============================] - 0s 36ms/step\n",
      "1/1 [==============================] - 0s 26ms/step\n",
      "1/1 [==============================] - 0s 29ms/step\n",
      "1/1 [==============================] - 0s 30ms/step\n",
      "1/1 [==============================] - 0s 30ms/step\n",
      "1/1 [==============================] - 0s 30ms/step\n",
      "1/1 [==============================] - 0s 29ms/step\n",
      "1/1 [==============================] - 0s 32ms/step\n",
      "1/1 [==============================] - 0s 27ms/step\n",
      "1/1 [==============================] - 0s 25ms/step\n",
      "1/1 [==============================] - 0s 25ms/step\n",
      "1/1 [==============================] - 0s 24ms/step\n",
      "1/1 [==============================] - 0s 23ms/step\n",
      "1/1 [==============================] - 0s 26ms/step\n",
      "1/1 [==============================] - 0s 27ms/step\n",
      "1/1 [==============================] - 0s 25ms/step\n",
      "1/1 [==============================] - 0s 30ms/step\n",
      "1/1 [==============================] - 0s 33ms/step\n",
      "1/1 [==============================] - 0s 28ms/step\n",
      "1/1 [==============================] - 0s 25ms/step\n",
      "1/1 [==============================] - 0s 23ms/step\n",
      "1/1 [==============================] - 0s 24ms/step\n",
      "1/1 [==============================] - 0s 23ms/step\n",
      "1/1 [==============================] - 0s 23ms/step\n",
      "1/1 [==============================] - 0s 32ms/step\n",
      "1/1 [==============================] - 0s 26ms/step\n",
      "1/1 [==============================] - 0s 33ms/step\n",
      "1/1 [==============================] - 0s 38ms/step\n",
      "1/1 [==============================] - 0s 28ms/step\n",
      "1/1 [==============================] - 0s 26ms/step\n",
      "1/1 [==============================] - 0s 23ms/step\n",
      "1/1 [==============================] - 0s 23ms/step\n",
      "1/1 [==============================] - 0s 29ms/step\n",
      "1/1 [==============================] - 0s 35ms/step\n",
      "1/1 [==============================] - 0s 82ms/step\n",
      "1/1 [==============================] - 0s 29ms/step\n",
      "1/1 [==============================] - 0s 22ms/step\n",
      "1/1 [==============================] - 0s 34ms/step\n",
      "1/1 [==============================] - 0s 23ms/step\n",
      "1/1 [==============================] - 0s 26ms/step\n",
      "1/1 [==============================] - 0s 24ms/step\n",
      "1/1 [==============================] - 0s 25ms/step\n",
      "1/1 [==============================] - 0s 25ms/step\n",
      "1/1 [==============================] - 0s 24ms/step\n",
      "1/1 [==============================] - 0s 26ms/step\n",
      "1/1 [==============================] - 0s 24ms/step\n",
      "1/1 [==============================] - 0s 25ms/step\n",
      "1/1 [==============================] - 0s 24ms/step\n",
      "1/1 [==============================] - 0s 27ms/step\n",
      "1/1 [==============================] - 0s 23ms/step\n",
      "1/1 [==============================] - 0s 23ms/step\n",
      "1/1 [==============================] - 0s 24ms/step\n",
      "1/1 [==============================] - 0s 27ms/step\n",
      "1/1 [==============================] - 0s 29ms/step\n",
      "1/1 [==============================] - 0s 30ms/step\n",
      "1/1 [==============================] - 0s 24ms/step\n",
      "1/1 [==============================] - 0s 23ms/step\n",
      "1/1 [==============================] - 0s 27ms/step\n",
      "1/1 [==============================] - 0s 24ms/step\n",
      "1/1 [==============================] - 0s 28ms/step\n",
      "1/1 [==============================] - 0s 28ms/step\n",
      "1/1 [==============================] - 0s 30ms/step\n",
      "1/1 [==============================] - 0s 23ms/step\n",
      "1/1 [==============================] - 0s 24ms/step\n",
      "1/1 [==============================] - 0s 25ms/step\n",
      "1/1 [==============================] - 0s 23ms/step\n",
      "1/1 [==============================] - 0s 24ms/step\n",
      "1/1 [==============================] - 0s 23ms/step\n",
      "1/1 [==============================] - 0s 23ms/step\n",
      "1/1 [==============================] - 0s 24ms/step\n",
      "1/1 [==============================] - 0s 24ms/step\n",
      "1/1 [==============================] - 0s 24ms/step\n",
      "1/1 [==============================] - 0s 24ms/step\n",
      "1/1 [==============================] - 0s 23ms/step\n",
      "1/1 [==============================] - 0s 24ms/step\n",
      "1/1 [==============================] - 0s 24ms/step\n",
      "1/1 [==============================] - 0s 24ms/step\n",
      "1/1 [==============================] - 0s 29ms/step\n",
      "1/1 [==============================] - 0s 30ms/step\n",
      "1/1 [==============================] - 0s 29ms/step\n"
     ]
    }
   ],
   "source": [
    "# Producing the values of scaled_test by model\n",
    "test_predictions = []\n",
    "\n",
    "first_eval_batch = scaled_train[-length:]\n",
    "current_batch = first_eval_batch.reshape((1, length, n_features))\n",
    "\n",
    "for i in range(len(test)):\n",
    "    current_pred = model3.predict(current_batch)[0]\n",
    "    test_predictions.append(current_pred) \n",
    "    current_batch = np.append(current_batch[:,1:,:],[[current_pred]],axis=1)"
   ]
  },
  {
   "cell_type": "code",
   "execution_count": 102,
   "id": "df562750",
   "metadata": {},
   "outputs": [
    {
     "name": "stderr",
     "output_type": "stream",
     "text": [
      "C:\\Users\\resea\\AppData\\Local\\Temp\\ipykernel_8052\\2400451377.py:3: SettingWithCopyWarning: \n",
      "A value is trying to be set on a copy of a slice from a DataFrame.\n",
      "Try using .loc[row_indexer,col_indexer] = value instead\n",
      "\n",
      "See the caveats in the documentation: https://pandas.pydata.org/pandas-docs/stable/user_guide/indexing.html#returning-a-view-versus-a-copy\n",
      "  test['mode3_Predictions'] = true_predictions\n"
     ]
    },
    {
     "data": {
      "text/html": [
       "<div>\n",
       "<style scoped>\n",
       "    .dataframe tbody tr th:only-of-type {\n",
       "        vertical-align: middle;\n",
       "    }\n",
       "\n",
       "    .dataframe tbody tr th {\n",
       "        vertical-align: top;\n",
       "    }\n",
       "\n",
       "    .dataframe thead th {\n",
       "        text-align: right;\n",
       "    }\n",
       "</style>\n",
       "<table border=\"1\" class=\"dataframe\">\n",
       "  <thead>\n",
       "    <tr style=\"text-align: right;\">\n",
       "      <th></th>\n",
       "      <th>CO2 (ppm)</th>\n",
       "      <th>Predictions</th>\n",
       "      <th>model_Predictions</th>\n",
       "      <th>mode2_Predictions</th>\n",
       "      <th>mode3_Predictions</th>\n",
       "    </tr>\n",
       "    <tr>\n",
       "      <th>Date</th>\n",
       "      <th></th>\n",
       "      <th></th>\n",
       "      <th></th>\n",
       "      <th></th>\n",
       "      <th></th>\n",
       "    </tr>\n",
       "  </thead>\n",
       "  <tbody>\n",
       "    <tr>\n",
       "      <th>2013-01-15</th>\n",
       "      <td>391.40</td>\n",
       "      <td>390.383793</td>\n",
       "      <td>312.433207</td>\n",
       "      <td>391.192084</td>\n",
       "      <td>390.383793</td>\n",
       "    </tr>\n",
       "    <tr>\n",
       "      <th>2013-02-15</th>\n",
       "      <td>391.73</td>\n",
       "      <td>390.420106</td>\n",
       "      <td>311.325790</td>\n",
       "      <td>391.346442</td>\n",
       "      <td>390.420106</td>\n",
       "    </tr>\n",
       "  </tbody>\n",
       "</table>\n",
       "</div>"
      ],
      "text/plain": [
       "            CO2 (ppm)  Predictions  model_Predictions  mode2_Predictions  \\\n",
       "Date                                                                       \n",
       "2013-01-15     391.40   390.383793         312.433207         391.192084   \n",
       "2013-02-15     391.73   390.420106         311.325790         391.346442   \n",
       "\n",
       "            mode3_Predictions  \n",
       "Date                           \n",
       "2013-01-15         390.383793  \n",
       "2013-02-15         390.420106  "
      ]
     },
     "execution_count": 102,
     "metadata": {},
     "output_type": "execute_result"
    }
   ],
   "source": [
    "# inverse transforming\n",
    "true_predictions = scaler.inverse_transform(test_predictions)\n",
    "test['mode3_Predictions'] = true_predictions\n",
    "test.head(2)"
   ]
  },
  {
   "cell_type": "code",
   "execution_count": 255,
   "id": "1273aa88",
   "metadata": {
    "scrolled": true
   },
   "outputs": [
    {
     "data": {
      "text/plain": [
       "<AxesSubplot:xlabel='Date'>"
      ]
     },
     "execution_count": 255,
     "metadata": {},
     "output_type": "execute_result"
    },
    {
     "data": {
      "image/png": "[encoded data removed]",
      "text/plain": [
       "<Figure size 432x288 with 1 Axes>"
      ]
     },
     "metadata": {
      "needs_background": "light"
     },
     "output_type": "display_data"
    }
   ],
   "source": [
    "# step 10: ploting\n",
    "test[[\"CO2 (ppm)\", 'mode3_Predictions']].iloc[-30:-20].plot(figsize=(6,4))"
   ]
  },
  {
   "cell_type": "code",
   "execution_count": 256,
   "id": "ff7408b5",
   "metadata": {
    "scrolled": true
   },
   "outputs": [
    {
     "data": {
      "text/plain": [
       "<AxesSubplot:xlabel='Date'>"
      ]
     },
     "execution_count": 256,
     "metadata": {},
     "output_type": "execute_result"
    },
    {
     "data": {
      "image/png": "[encoded data removed]",
      "text/plain": [
       "<Figure size 432x288 with 1 Axes>"
      ]
     },
     "metadata": {
      "needs_background": "light"
     },
     "output_type": "display_data"
    }
   ],
   "source": [
    "test[[\"CO2 (ppm)\", 'mode3_Predictions']].plot(figsize=(6,4))"
   ]
  },
  {
   "cell_type": "code",
   "execution_count": 112,
   "id": "17c19ca2",
   "metadata": {
    "scrolled": true
   },
   "outputs": [
    {
     "name": "stdout",
     "output_type": "stream",
     "text": [
      "Model: \"sequential_4\"\n",
      "_________________________________________________________________\n",
      " Layer (type)                Output Shape              Param #   \n",
      "=================================================================\n",
      " lstm_5 (LSTM)               (None, 84, 100)           40800     \n",
      "                                                                 \n",
      " lstm_6 (LSTM)               (None, 100)               80400     \n",
      "                                                                 \n",
      " dense_4 (Dense)             (None, 1)                 101       \n",
      "                                                                 \n",
      "=================================================================\n",
      "Total params: 121,301\n",
      "Trainable params: 121,301\n",
      "Non-trainable params: 0\n",
      "_________________________________________________________________\n"
     ]
    }
   ],
   "source": [
    "# Defining model4\n",
    "n_features = 1 # n_features: the number of features in TimeSeries (here is 1 feature which changed monthly)\n",
    "# define model\n",
    "model4 = Sequential()\n",
    "model4.add(LSTM(100, return_sequences = True, input_shape=(length, n_features)))#\n",
    "model4.add(LSTM(100, input_shape=(length, n_features)))\n",
    "model4.add(Dense(1,  activation = 'sigmoid'))\n",
    "model4.compile(optimizer='adam', loss='mse')\n",
    "\n",
    "model4.summary()"
   ]
  },
  {
   "cell_type": "code",
   "execution_count": 113,
   "id": "791f94a4",
   "metadata": {},
   "outputs": [],
   "source": [
    "early_stop = EarlyStopping(monitor='val_loss',patience=3)"
   ]
  },
  {
   "cell_type": "code",
   "execution_count": 114,
   "id": "19234333",
   "metadata": {},
   "outputs": [
    {
     "name": "stdout",
     "output_type": "stream",
     "text": [
      "Epoch 1/20\n"
     ]
    },
    {
     "name": "stderr",
     "output_type": "stream",
     "text": [
      "C:\\Users\\resea\\AppData\\Local\\Temp\\ipykernel_8052\\1050532144.py:2: UserWarning: `Model.fit_generator` is deprecated and will be removed in a future version. Please use `Model.fit`, which supports generators.\n",
      "  model4.fit_generator(generator,epochs=20,\n"
     ]
    },
    {
     "name": "stdout",
     "output_type": "stream",
     "text": [
      "588/588 [==============================] - 37s 55ms/step - loss: 0.0056 - val_loss: 0.0866\n",
      "Epoch 2/20\n",
      "588/588 [==============================] - 29s 50ms/step - loss: 4.5442e-04 - val_loss: 0.0763\n",
      "Epoch 3/20\n",
      "588/588 [==============================] - 29s 50ms/step - loss: 4.6019e-04 - val_loss: 0.0797\n",
      "Epoch 4/20\n",
      "588/588 [==============================] - 30s 51ms/step - loss: 7.1750e-04 - val_loss: 0.0768\n",
      "Epoch 5/20\n",
      "588/588 [==============================] - 30s 51ms/step - loss: 4.9418e-04 - val_loss: 0.0750\n",
      "Epoch 6/20\n",
      "588/588 [==============================] - 29s 50ms/step - loss: 3.2297e-04 - val_loss: 0.0737\n",
      "Epoch 7/20\n",
      "588/588 [==============================] - 30s 50ms/step - loss: 2.3027e-04 - val_loss: 0.0732\n",
      "Epoch 8/20\n",
      "588/588 [==============================] - 29s 50ms/step - loss: 1.3479e-04 - val_loss: 0.0737\n",
      "Epoch 9/20\n",
      "588/588 [==============================] - 30s 50ms/step - loss: 3.4293e-04 - val_loss: 0.0723\n",
      "Epoch 10/20\n",
      "588/588 [==============================] - 29s 50ms/step - loss: 2.6378e-04 - val_loss: 0.0731\n",
      "Epoch 11/20\n",
      "588/588 [==============================] - 30s 51ms/step - loss: 5.2028e-04 - val_loss: 0.0727\n",
      "Epoch 12/20\n",
      "588/588 [==============================] - 30s 51ms/step - loss: 1.1705e-04 - val_loss: 0.0723\n",
      "Epoch 13/20\n",
      "588/588 [==============================] - 30s 51ms/step - loss: 1.3056e-04 - val_loss: 0.0736\n",
      "Epoch 14/20\n",
      "588/588 [==============================] - 30s 51ms/step - loss: 1.6883e-04 - val_loss: 0.0720\n",
      "Epoch 15/20\n",
      "588/588 [==============================] - 31s 52ms/step - loss: 9.9155e-05 - val_loss: 0.0720\n",
      "Epoch 16/20\n",
      "588/588 [==============================] - 31s 52ms/step - loss: 1.4756e-04 - val_loss: 0.0721\n",
      "Epoch 17/20\n",
      "588/588 [==============================] - 30s 51ms/step - loss: 9.0973e-05 - val_loss: 0.0723\n"
     ]
    },
    {
     "data": {
      "text/plain": [
       "<keras.callbacks.History at 0x1c0cd0a4e50>"
      ]
     },
     "execution_count": 114,
     "metadata": {},
     "output_type": "execute_result"
    }
   ],
   "source": [
    "# fit model\n",
    "model4.fit_generator(generator,epochs=20,\n",
    "                    validation_data=validation_generator\n",
    "                   , callbacks=[early_stop])"
   ]
  },
  {
   "cell_type": "code",
   "execution_count": 116,
   "id": "805520c5",
   "metadata": {},
   "outputs": [
    {
     "data": {
      "text/plain": [
       "<AxesSubplot:>"
      ]
     },
     "execution_count": 116,
     "metadata": {},
     "output_type": "execute_result"
    },
    {
     "data": {
      "image/png": "[encoded data removed]",
      "text/plain": [
       "<Figure size 432x288 with 1 Axes>"
      ]
     },
     "metadata": {
      "needs_background": "light"
     },
     "output_type": "display_data"
    }
   ],
   "source": [
    "losses4 = pd.DataFrame(model4.history.history)\n",
    "losses4.plot()"
   ]
  },
  {
   "cell_type": "markdown",
   "id": "bc839ef2",
   "metadata": {},
   "source": [
    "#### Evaluating model4 on Test Data"
   ]
  },
  {
   "cell_type": "code",
   "execution_count": 117,
   "id": "a131ef23",
   "metadata": {},
   "outputs": [
    {
     "data": {
      "text/plain": [
       "(84, 1)"
      ]
     },
     "execution_count": 117,
     "metadata": {},
     "output_type": "execute_result"
    }
   ],
   "source": [
    "first_eval_batch = scaled_train[-length:]\n",
    "first_eval_batch.shape # (n_input, n_features)"
   ]
  },
  {
   "cell_type": "code",
   "execution_count": 118,
   "id": "67e7ed50",
   "metadata": {},
   "outputs": [
    {
     "name": "stdout",
     "output_type": "stream",
     "text": [
      "1/1 [==============================] - 1s 1s/step\n"
     ]
    },
    {
     "data": {
      "text/plain": [
       "array([[0.9563055]], dtype=float32)"
      ]
     },
     "execution_count": 118,
     "metadata": {},
     "output_type": "execute_result"
    }
   ],
   "source": [
    "n_input = 84\n",
    "n_features\n",
    "first_eval_batch = first_eval_batch.reshape((1, n_input, n_features))\n",
    "model4.predict(first_eval_batch)"
   ]
  },
  {
   "cell_type": "code",
   "execution_count": 119,
   "id": "9fc1556a",
   "metadata": {},
   "outputs": [
    {
     "data": {
      "text/plain": [
       "array([1.00101924])"
      ]
     },
     "execution_count": 119,
     "metadata": {},
     "output_type": "execute_result"
    }
   ],
   "source": [
    "scaled_test[0]"
   ]
  },
  {
   "cell_type": "code",
   "execution_count": 120,
   "id": "df237003",
   "metadata": {},
   "outputs": [
    {
     "data": {
      "text/plain": [
       "1.159455556971164"
      ]
     },
     "execution_count": 120,
     "metadata": {},
     "output_type": "execute_result"
    }
   ],
   "source": [
    "scaled_test.mean()"
   ]
  },
  {
   "cell_type": "code",
   "execution_count": 121,
   "id": "98cecab2",
   "metadata": {},
   "outputs": [
    {
     "name": "stdout",
     "output_type": "stream",
     "text": [
      "1/1 [==============================] - 0s 36ms/step\n",
      "1/1 [==============================] - 0s 28ms/step\n",
      "1/1 [==============================] - 0s 28ms/step\n",
      "1/1 [==============================] - 0s 30ms/step\n",
      "1/1 [==============================] - 0s 28ms/step\n",
      "1/1 [==============================] - 0s 27ms/step\n",
      "1/1 [==============================] - 0s 29ms/step\n",
      "1/1 [==============================] - 0s 27ms/step\n",
      "1/1 [==============================] - 0s 29ms/step\n",
      "1/1 [==============================] - 0s 28ms/step\n",
      "1/1 [==============================] - 0s 28ms/step\n",
      "1/1 [==============================] - 0s 29ms/step\n",
      "1/1 [==============================] - 0s 28ms/step\n",
      "1/1 [==============================] - 0s 31ms/step\n",
      "1/1 [==============================] - 0s 33ms/step\n",
      "1/1 [==============================] - 0s 28ms/step\n",
      "1/1 [==============================] - 0s 32ms/step\n",
      "1/1 [==============================] - 0s 34ms/step\n",
      "1/1 [==============================] - 0s 67ms/step\n",
      "1/1 [==============================] - 0s 27ms/step\n",
      "1/1 [==============================] - 0s 26ms/step\n",
      "1/1 [==============================] - 0s 28ms/step\n",
      "1/1 [==============================] - 0s 27ms/step\n",
      "1/1 [==============================] - 0s 28ms/step\n",
      "1/1 [==============================] - 0s 28ms/step\n",
      "1/1 [==============================] - 0s 27ms/step\n",
      "1/1 [==============================] - 0s 28ms/step\n",
      "1/1 [==============================] - 0s 27ms/step\n",
      "1/1 [==============================] - 0s 28ms/step\n",
      "1/1 [==============================] - 0s 27ms/step\n",
      "1/1 [==============================] - 0s 28ms/step\n",
      "1/1 [==============================] - 0s 29ms/step\n",
      "1/1 [==============================] - 0s 29ms/step\n",
      "1/1 [==============================] - 0s 28ms/step\n",
      "1/1 [==============================] - 0s 28ms/step\n",
      "1/1 [==============================] - 0s 29ms/step\n",
      "1/1 [==============================] - 0s 34ms/step\n",
      "1/1 [==============================] - 0s 34ms/step\n",
      "1/1 [==============================] - 0s 32ms/step\n",
      "1/1 [==============================] - 0s 38ms/step\n",
      "1/1 [==============================] - 0s 28ms/step\n",
      "1/1 [==============================] - 0s 28ms/step\n",
      "1/1 [==============================] - 0s 35ms/step\n",
      "1/1 [==============================] - 0s 32ms/step\n",
      "1/1 [==============================] - 0s 34ms/step\n",
      "1/1 [==============================] - 0s 29ms/step\n",
      "1/1 [==============================] - 0s 28ms/step\n",
      "1/1 [==============================] - 0s 27ms/step\n",
      "1/1 [==============================] - 0s 28ms/step\n",
      "1/1 [==============================] - 0s 35ms/step\n",
      "1/1 [==============================] - 0s 32ms/step\n",
      "1/1 [==============================] - 0s 32ms/step\n",
      "1/1 [==============================] - 0s 30ms/step\n",
      "1/1 [==============================] - 0s 28ms/step\n",
      "1/1 [==============================] - 0s 27ms/step\n",
      "1/1 [==============================] - 0s 27ms/step\n",
      "1/1 [==============================] - 0s 27ms/step\n",
      "1/1 [==============================] - 0s 33ms/step\n",
      "1/1 [==============================] - 0s 32ms/step\n",
      "1/1 [==============================] - 0s 32ms/step\n",
      "1/1 [==============================] - 0s 28ms/step\n",
      "1/1 [==============================] - 0s 28ms/step\n",
      "1/1 [==============================] - 0s 30ms/step\n",
      "1/1 [==============================] - 0s 31ms/step\n",
      "1/1 [==============================] - 0s 28ms/step\n",
      "1/1 [==============================] - 0s 28ms/step\n",
      "1/1 [==============================] - 0s 28ms/step\n",
      "1/1 [==============================] - 0s 28ms/step\n",
      "1/1 [==============================] - 0s 28ms/step\n",
      "1/1 [==============================] - 0s 29ms/step\n",
      "1/1 [==============================] - 0s 29ms/step\n",
      "1/1 [==============================] - 0s 30ms/step\n",
      "1/1 [==============================] - 0s 30ms/step\n",
      "1/1 [==============================] - 0s 30ms/step\n",
      "1/1 [==============================] - 0s 30ms/step\n",
      "1/1 [==============================] - 0s 30ms/step\n",
      "1/1 [==============================] - 0s 31ms/step\n",
      "1/1 [==============================] - 0s 31ms/step\n",
      "1/1 [==============================] - 0s 30ms/step\n",
      "1/1 [==============================] - 0s 28ms/step\n",
      "1/1 [==============================] - 0s 28ms/step\n",
      "1/1 [==============================] - 0s 33ms/step\n",
      "1/1 [==============================] - 0s 33ms/step\n",
      "1/1 [==============================] - 0s 33ms/step\n",
      "1/1 [==============================] - 0s 29ms/step\n",
      "1/1 [==============================] - 0s 27ms/step\n",
      "1/1 [==============================] - 0s 30ms/step\n",
      "1/1 [==============================] - 0s 30ms/step\n",
      "1/1 [==============================] - 0s 29ms/step\n",
      "1/1 [==============================] - 0s 33ms/step\n",
      "1/1 [==============================] - 0s 32ms/step\n",
      "1/1 [==============================] - 0s 34ms/step\n",
      "1/1 [==============================] - 0s 28ms/step\n",
      "1/1 [==============================] - 0s 27ms/step\n",
      "1/1 [==============================] - 0s 28ms/step\n",
      "1/1 [==============================] - 0s 28ms/step\n",
      "1/1 [==============================] - 0s 27ms/step\n",
      "1/1 [==============================] - 0s 28ms/step\n",
      "1/1 [==============================] - 0s 28ms/step\n",
      "1/1 [==============================] - 0s 27ms/step\n",
      "1/1 [==============================] - 0s 28ms/step\n",
      "1/1 [==============================] - 0s 34ms/step\n",
      "1/1 [==============================] - 0s 32ms/step\n",
      "1/1 [==============================] - 0s 32ms/step\n",
      "1/1 [==============================] - 0s 34ms/step\n",
      "1/1 [==============================] - 0s 28ms/step\n",
      "1/1 [==============================] - 0s 27ms/step\n",
      "1/1 [==============================] - 0s 28ms/step\n",
      "1/1 [==============================] - 0s 26ms/step\n",
      "1/1 [==============================] - 0s 27ms/step\n",
      "1/1 [==============================] - 0s 28ms/step\n",
      "1/1 [==============================] - 0s 28ms/step\n",
      "1/1 [==============================] - 0s 29ms/step\n",
      "1/1 [==============================] - 0s 30ms/step\n",
      "1/1 [==============================] - 0s 30ms/step\n",
      "1/1 [==============================] - 0s 30ms/step\n",
      "1/1 [==============================] - 0s 31ms/step\n",
      "1/1 [==============================] - 0s 27ms/step\n",
      "1/1 [==============================] - 0s 31ms/step\n",
      "1/1 [==============================] - 0s 33ms/step\n"
     ]
    }
   ],
   "source": [
    "# Producing the values of scaled_test by model\n",
    "test_predictions = []\n",
    "\n",
    "first_eval_batch = scaled_train[-length:]\n",
    "current_batch = first_eval_batch.reshape((1, length, n_features))\n",
    "\n",
    "for i in range(len(test)):\n",
    "    current_pred = model4.predict(current_batch)[0]\n",
    "    test_predictions.append(current_pred) \n",
    "    current_batch = np.append(current_batch[:,1:,:],[[current_pred]],axis=1)"
   ]
  },
  {
   "cell_type": "code",
   "execution_count": 122,
   "id": "555691e8",
   "metadata": {},
   "outputs": [
    {
     "name": "stderr",
     "output_type": "stream",
     "text": [
      "C:\\Users\\resea\\AppData\\Local\\Temp\\ipykernel_8052\\3431870755.py:3: SettingWithCopyWarning: \n",
      "A value is trying to be set on a copy of a slice from a DataFrame.\n",
      "Try using .loc[row_indexer,col_indexer] = value instead\n",
      "\n",
      "See the caveats in the documentation: https://pandas.pydata.org/pandas-docs/stable/user_guide/indexing.html#returning-a-view-versus-a-copy\n",
      "  test['mode4_Predictions'] = true_predictions\n"
     ]
    },
    {
     "data": {
      "text/html": [
       "<div>\n",
       "<style scoped>\n",
       "    .dataframe tbody tr th:only-of-type {\n",
       "        vertical-align: middle;\n",
       "    }\n",
       "\n",
       "    .dataframe tbody tr th {\n",
       "        vertical-align: top;\n",
       "    }\n",
       "\n",
       "    .dataframe thead th {\n",
       "        text-align: right;\n",
       "    }\n",
       "</style>\n",
       "<table border=\"1\" class=\"dataframe\">\n",
       "  <thead>\n",
       "    <tr style=\"text-align: right;\">\n",
       "      <th></th>\n",
       "      <th>CO2 (ppm)</th>\n",
       "      <th>Predictions</th>\n",
       "      <th>model_Predictions</th>\n",
       "      <th>mode2_Predictions</th>\n",
       "      <th>mode3_Predictions</th>\n",
       "      <th>mode4_Predictions</th>\n",
       "    </tr>\n",
       "    <tr>\n",
       "      <th>Date</th>\n",
       "      <th></th>\n",
       "      <th></th>\n",
       "      <th></th>\n",
       "      <th></th>\n",
       "      <th></th>\n",
       "      <th></th>\n",
       "    </tr>\n",
       "  </thead>\n",
       "  <tbody>\n",
       "    <tr>\n",
       "      <th>2013-01-15</th>\n",
       "      <td>391.40</td>\n",
       "      <td>390.383793</td>\n",
       "      <td>312.433207</td>\n",
       "      <td>391.192084</td>\n",
       "      <td>390.383793</td>\n",
       "      <td>387.890419</td>\n",
       "    </tr>\n",
       "    <tr>\n",
       "      <th>2013-02-15</th>\n",
       "      <td>391.73</td>\n",
       "      <td>390.420106</td>\n",
       "      <td>311.325790</td>\n",
       "      <td>391.346442</td>\n",
       "      <td>390.420106</td>\n",
       "      <td>387.891762</td>\n",
       "    </tr>\n",
       "  </tbody>\n",
       "</table>\n",
       "</div>"
      ],
      "text/plain": [
       "            CO2 (ppm)  Predictions  model_Predictions  mode2_Predictions  \\\n",
       "Date                                                                       \n",
       "2013-01-15     391.40   390.383793         312.433207         391.192084   \n",
       "2013-02-15     391.73   390.420106         311.325790         391.346442   \n",
       "\n",
       "            mode3_Predictions  mode4_Predictions  \n",
       "Date                                              \n",
       "2013-01-15         390.383793         387.890419  \n",
       "2013-02-15         390.420106         387.891762  "
      ]
     },
     "execution_count": 122,
     "metadata": {},
     "output_type": "execute_result"
    }
   ],
   "source": [
    "# inverse transforming\n",
    "true_predictions = scaler.inverse_transform(test_predictions)\n",
    "test['mode4_Predictions'] = true_predictions\n",
    "test.head(2)"
   ]
  },
  {
   "cell_type": "code",
   "execution_count": 258,
   "id": "ed962783",
   "metadata": {
    "scrolled": true
   },
   "outputs": [
    {
     "data": {
      "text/plain": [
       "<AxesSubplot:xlabel='Date'>"
      ]
     },
     "execution_count": 258,
     "metadata": {},
     "output_type": "execute_result"
    },
    {
     "data": {
      "image/png": "[encoded data removed]",
      "text/plain": [
       "<Figure size 432x288 with 1 Axes>"
      ]
     },
     "metadata": {
      "needs_background": "light"
     },
     "output_type": "display_data"
    }
   ],
   "source": [
    "# step 10: ploting\n",
    "test[[\"CO2 (ppm)\", 'mode4_Predictions']].iloc[-30:-20].plot(figsize=(6,4))"
   ]
  },
  {
   "cell_type": "code",
   "execution_count": 259,
   "id": "f9052a73",
   "metadata": {
    "scrolled": true
   },
   "outputs": [
    {
     "data": {
      "text/plain": [
       "<AxesSubplot:xlabel='Date'>"
      ]
     },
     "execution_count": 259,
     "metadata": {},
     "output_type": "execute_result"
    },
    {
     "data": {
      "image/png": "[encoded data removed]",
      "text/plain": [
       "<Figure size 432x288 with 1 Axes>"
      ]
     },
     "metadata": {
      "needs_background": "light"
     },
     "output_type": "display_data"
    }
   ],
   "source": [
    "test[[\"CO2 (ppm)\", 'model_Predictions']].plot(figsize=(6,4))"
   ]
  },
  {
   "cell_type": "markdown",
   "id": "8209fc2a",
   "metadata": {},
   "source": [
    "### Shortening the length:\n",
    "*The Question is: How the shortening the length elevate the accuracy of model2*?"
   ]
  },
  {
   "cell_type": "code",
   "execution_count": 136,
   "id": "59dd6ad0",
   "metadata": {},
   "outputs": [],
   "source": [
    "# Second Architect\n",
    "n_features = 1 # n_features: the number of features in TimeSeries (here is 1 feature which changed monthly)\n",
    "length = 72\n",
    "# define model\n",
    "model5 = Sequential()\n",
    "model5.add(LSTM(400, activation='relu', input_shape=(length, n_features)))#\n",
    "model5.add(Dense(1)) # model Output is one\n",
    "model5.compile(optimizer='adam', loss='mse')"
   ]
  },
  {
   "cell_type": "code",
   "execution_count": 137,
   "id": "9f7b73af",
   "metadata": {},
   "outputs": [
    {
     "name": "stdout",
     "output_type": "stream",
     "text": [
      "Model: \"sequential_6\"\n",
      "_________________________________________________________________\n",
      " Layer (type)                Output Shape              Param #   \n",
      "=================================================================\n",
      " lstm_8 (LSTM)               (None, 400)               643200    \n",
      "                                                                 \n",
      " dense_6 (Dense)             (None, 1)                 401       \n",
      "                                                                 \n",
      "=================================================================\n",
      "Total params: 643,601\n",
      "Trainable params: 643,601\n",
      "Non-trainable params: 0\n",
      "_________________________________________________________________\n"
     ]
    }
   ],
   "source": [
    "model5.summary()"
   ]
  },
  {
   "cell_type": "code",
   "execution_count": 138,
   "id": "dad03af3",
   "metadata": {},
   "outputs": [
    {
     "name": "stdout",
     "output_type": "stream",
     "text": [
      "Epoch 1/6\n"
     ]
    },
    {
     "name": "stderr",
     "output_type": "stream",
     "text": [
      "C:\\Users\\resea\\AppData\\Local\\Temp\\ipykernel_8052\\134167819.py:4: UserWarning: `Model.fit_generator` is deprecated and will be removed in a future version. Please use `Model.fit`, which supports generators.\n",
      "  model5.fit_generator(generator,epochs=6,\n"
     ]
    },
    {
     "name": "stdout",
     "output_type": "stream",
     "text": [
      "708/708 [==============================] - 119s 165ms/step - loss: 82191.3125 - val_loss: 0.0238\n",
      "Epoch 2/6\n",
      "708/708 [==============================] - 112s 158ms/step - loss: 9.7985e-05 - val_loss: 0.0066\n",
      "Epoch 3/6\n",
      "708/708 [==============================] - 113s 159ms/step - loss: 1.7137e-04 - val_loss: 0.0027\n",
      "Epoch 4/6\n",
      "708/708 [==============================] - 111s 157ms/step - loss: 2.0244e-04 - val_loss: 0.0030\n",
      "Epoch 5/6\n",
      "708/708 [==============================] - 113s 160ms/step - loss: 2.0293e-04 - val_loss: 0.0024\n",
      "Epoch 6/6\n",
      "708/708 [==============================] - 111s 157ms/step - loss: 1.0535e-04 - val_loss: 5.4529e-05\n"
     ]
    },
    {
     "data": {
      "text/plain": [
       "<keras.callbacks.History at 0x1c0cfaf6580>"
      ]
     },
     "execution_count": 138,
     "metadata": {},
     "output_type": "execute_result"
    }
   ],
   "source": [
    "early_stop = EarlyStopping(monitor='val_loss',patience=3)\n",
    "\n",
    "# fit model\n",
    "model5.fit_generator(generator,epochs=6,\n",
    "                    validation_data=validation_generator,\n",
    "                   callbacks=[early_stop])"
   ]
  },
  {
   "cell_type": "code",
   "execution_count": 139,
   "id": "745d7a24",
   "metadata": {},
   "outputs": [
    {
     "data": {
      "text/plain": [
       "<AxesSubplot:>"
      ]
     },
     "execution_count": 139,
     "metadata": {},
     "output_type": "execute_result"
    },
    {
     "data": {
      "image/png": "[encoded data removed]",
      "text/plain": [
       "<Figure size 432x288 with 1 Axes>"
      ]
     },
     "metadata": {
      "needs_background": "light"
     },
     "output_type": "display_data"
    }
   ],
   "source": [
    "losses5 = pd.DataFrame(model5.history.history)\n",
    "losses5.plot()"
   ]
  },
  {
   "cell_type": "markdown",
   "id": "26afbfd8",
   "metadata": {},
   "source": [
    "#### Evaluating model5 on Test Data"
   ]
  },
  {
   "cell_type": "code",
   "execution_count": 140,
   "id": "6c3076ef",
   "metadata": {},
   "outputs": [
    {
     "data": {
      "text/plain": [
       "(72, 1)"
      ]
     },
     "execution_count": 140,
     "metadata": {},
     "output_type": "execute_result"
    }
   ],
   "source": [
    "first_eval_batch = scaled_train[-length:]\n",
    "first_eval_batch.shape # (n_input, n_features)"
   ]
  },
  {
   "cell_type": "code",
   "execution_count": 141,
   "id": "7b9e1817",
   "metadata": {},
   "outputs": [
    {
     "name": "stdout",
     "output_type": "stream",
     "text": [
      "1/1 [==============================] - 0s 216ms/step\n"
     ]
    },
    {
     "data": {
      "text/plain": [
       "array([[0.9781738]], dtype=float32)"
      ]
     },
     "execution_count": 141,
     "metadata": {},
     "output_type": "execute_result"
    }
   ],
   "source": [
    "n_input = 72\n",
    "n_features\n",
    "first_eval_batch = first_eval_batch.reshape((1, n_input, n_features))\n",
    "model5.predict(first_eval_batch)"
   ]
  },
  {
   "cell_type": "code",
   "execution_count": 233,
   "id": "734d57f2",
   "metadata": {},
   "outputs": [
    {
     "name": "stdout",
     "output_type": "stream",
     "text": [
      "1/1 [==============================] - 0s 44ms/step\n",
      "1/1 [==============================] - 0s 40ms/step\n",
      "1/1 [==============================] - 0s 39ms/step\n",
      "1/1 [==============================] - 0s 41ms/step\n",
      "1/1 [==============================] - 0s 37ms/step\n",
      "1/1 [==============================] - 0s 37ms/step\n",
      "1/1 [==============================] - 0s 37ms/step\n",
      "1/1 [==============================] - 0s 40ms/step\n",
      "1/1 [==============================] - 0s 38ms/step\n",
      "1/1 [==============================] - 0s 38ms/step\n",
      "1/1 [==============================] - 0s 39ms/step\n",
      "1/1 [==============================] - 0s 42ms/step\n",
      "1/1 [==============================] - 0s 39ms/step\n",
      "1/1 [==============================] - 0s 37ms/step\n",
      "1/1 [==============================] - 0s 40ms/step\n",
      "1/1 [==============================] - 0s 39ms/step\n",
      "1/1 [==============================] - 0s 38ms/step\n",
      "1/1 [==============================] - 0s 42ms/step\n",
      "1/1 [==============================] - 0s 41ms/step\n",
      "1/1 [==============================] - 0s 57ms/step\n",
      "1/1 [==============================] - 0s 53ms/step\n",
      "1/1 [==============================] - 0s 40ms/step\n",
      "1/1 [==============================] - 0s 39ms/step\n",
      "1/1 [==============================] - 0s 44ms/step\n",
      "1/1 [==============================] - 0s 41ms/step\n",
      "1/1 [==============================] - 0s 41ms/step\n",
      "1/1 [==============================] - 0s 41ms/step\n",
      "1/1 [==============================] - 0s 37ms/step\n",
      "1/1 [==============================] - 0s 40ms/step\n",
      "1/1 [==============================] - 0s 38ms/step\n",
      "1/1 [==============================] - 0s 51ms/step\n",
      "1/1 [==============================] - 0s 60ms/step\n",
      "1/1 [==============================] - 0s 37ms/step\n",
      "1/1 [==============================] - 0s 41ms/step\n",
      "1/1 [==============================] - 0s 36ms/step\n",
      "1/1 [==============================] - 0s 38ms/step\n",
      "1/1 [==============================] - 0s 37ms/step\n",
      "1/1 [==============================] - 0s 41ms/step\n",
      "1/1 [==============================] - 0s 42ms/step\n",
      "1/1 [==============================] - 0s 38ms/step\n",
      "1/1 [==============================] - 0s 38ms/step\n",
      "1/1 [==============================] - 0s 38ms/step\n",
      "1/1 [==============================] - 0s 39ms/step\n",
      "1/1 [==============================] - 0s 41ms/step\n",
      "1/1 [==============================] - 0s 36ms/step\n",
      "1/1 [==============================] - 0s 38ms/step\n",
      "1/1 [==============================] - 0s 37ms/step\n",
      "1/1 [==============================] - 0s 36ms/step\n",
      "1/1 [==============================] - 0s 40ms/step\n",
      "1/1 [==============================] - 0s 36ms/step\n",
      "1/1 [==============================] - 0s 39ms/step\n",
      "1/1 [==============================] - 0s 38ms/step\n",
      "1/1 [==============================] - 0s 38ms/step\n",
      "1/1 [==============================] - 0s 38ms/step\n",
      "1/1 [==============================] - 0s 39ms/step\n",
      "1/1 [==============================] - 0s 44ms/step\n",
      "1/1 [==============================] - 0s 49ms/step\n",
      "1/1 [==============================] - 0s 51ms/step\n",
      "1/1 [==============================] - 0s 38ms/step\n",
      "1/1 [==============================] - 0s 38ms/step\n",
      "1/1 [==============================] - 0s 44ms/step\n",
      "1/1 [==============================] - 0s 52ms/step\n",
      "1/1 [==============================] - 0s 51ms/step\n",
      "1/1 [==============================] - 0s 48ms/step\n",
      "1/1 [==============================] - 0s 39ms/step\n",
      "1/1 [==============================] - 0s 38ms/step\n",
      "1/1 [==============================] - 0s 37ms/step\n",
      "1/1 [==============================] - 0s 37ms/step\n",
      "1/1 [==============================] - 0s 50ms/step\n",
      "1/1 [==============================] - 0s 51ms/step\n",
      "1/1 [==============================] - 0s 39ms/step\n",
      "1/1 [==============================] - 0s 41ms/step\n",
      "1/1 [==============================] - 0s 42ms/step\n",
      "1/1 [==============================] - 0s 51ms/step\n",
      "1/1 [==============================] - 0s 49ms/step\n",
      "1/1 [==============================] - 0s 40ms/step\n",
      "1/1 [==============================] - 0s 37ms/step\n",
      "1/1 [==============================] - 0s 40ms/step\n",
      "1/1 [==============================] - 0s 40ms/step\n",
      "1/1 [==============================] - 0s 39ms/step\n",
      "1/1 [==============================] - 0s 53ms/step\n",
      "1/1 [==============================] - 0s 46ms/step\n",
      "1/1 [==============================] - 0s 39ms/step\n",
      "1/1 [==============================] - 0s 38ms/step\n",
      "1/1 [==============================] - 0s 39ms/step\n",
      "1/1 [==============================] - 0s 41ms/step\n",
      "1/1 [==============================] - 0s 39ms/step\n",
      "1/1 [==============================] - 0s 50ms/step\n",
      "1/1 [==============================] - 0s 47ms/step\n",
      "1/1 [==============================] - 0s 37ms/step\n",
      "1/1 [==============================] - 0s 39ms/step\n",
      "1/1 [==============================] - 0s 50ms/step\n",
      "1/1 [==============================] - 0s 46ms/step\n",
      "1/1 [==============================] - 0s 41ms/step\n",
      "1/1 [==============================] - 0s 45ms/step\n",
      "1/1 [==============================] - 0s 52ms/step\n",
      "1/1 [==============================] - 0s 51ms/step\n",
      "1/1 [==============================] - 0s 40ms/step\n",
      "1/1 [==============================] - 0s 39ms/step\n",
      "1/1 [==============================] - 0s 38ms/step\n",
      "1/1 [==============================] - 0s 41ms/step\n",
      "1/1 [==============================] - 0s 38ms/step\n",
      "1/1 [==============================] - 0s 36ms/step\n",
      "1/1 [==============================] - 0s 39ms/step\n",
      "1/1 [==============================] - 0s 41ms/step\n",
      "1/1 [==============================] - 0s 42ms/step\n",
      "1/1 [==============================] - 0s 37ms/step\n",
      "1/1 [==============================] - 0s 41ms/step\n",
      "1/1 [==============================] - 0s 43ms/step\n",
      "1/1 [==============================] - 0s 40ms/step\n",
      "1/1 [==============================] - 0s 43ms/step\n",
      "1/1 [==============================] - 0s 41ms/step\n",
      "1/1 [==============================] - 0s 43ms/step\n",
      "1/1 [==============================] - 0s 38ms/step\n",
      "1/1 [==============================] - 0s 44ms/step\n",
      "1/1 [==============================] - 0s 54ms/step\n",
      "1/1 [==============================] - 0s 48ms/step\n",
      "1/1 [==============================] - 0s 47ms/step\n",
      "1/1 [==============================] - 0s 39ms/step\n",
      "1/1 [==============================] - 0s 37ms/step\n"
     ]
    }
   ],
   "source": [
    "# Producing the values of scaled_test by model\n",
    "test_predictions = []\n",
    "\n",
    "first_eval_batch = scaled_train[-length:]\n",
    "current_batch = first_eval_batch.reshape((1, length, n_features))\n",
    "\n",
    "for i in range(len(test)):\n",
    "    current_pred = model5.predict(current_batch)[0]\n",
    "    test_predictions.append(current_pred) \n",
    "    current_batch = np.append(current_batch[:,1:,:],[[current_pred]],axis=1)"
   ]
  },
  {
   "cell_type": "code",
   "execution_count": 234,
   "id": "7b478ef3",
   "metadata": {},
   "outputs": [
    {
     "name": "stderr",
     "output_type": "stream",
     "text": [
      "C:\\Users\\resea\\AppData\\Local\\Temp\\ipykernel_8052\\3500245491.py:3: SettingWithCopyWarning: \n",
      "A value is trying to be set on a copy of a slice from a DataFrame.\n",
      "Try using .loc[row_indexer,col_indexer] = value instead\n",
      "\n",
      "See the caveats in the documentation: https://pandas.pydata.org/pandas-docs/stable/user_guide/indexing.html#returning-a-view-versus-a-copy\n",
      "  test['mode5_Predictions'] = true_predictions\n"
     ]
    },
    {
     "data": {
      "text/html": [
       "<div>\n",
       "<style scoped>\n",
       "    .dataframe tbody tr th:only-of-type {\n",
       "        vertical-align: middle;\n",
       "    }\n",
       "\n",
       "    .dataframe tbody tr th {\n",
       "        vertical-align: top;\n",
       "    }\n",
       "\n",
       "    .dataframe thead th {\n",
       "        text-align: right;\n",
       "    }\n",
       "</style>\n",
       "<table border=\"1\" class=\"dataframe\">\n",
       "  <thead>\n",
       "    <tr style=\"text-align: right;\">\n",
       "      <th></th>\n",
       "      <th>CO2 (ppm)</th>\n",
       "      <th>model_Predictions</th>\n",
       "      <th>mode2_Predictions</th>\n",
       "      <th>mode3_Predictions</th>\n",
       "      <th>mode4_Predictions</th>\n",
       "      <th>mode5_Predictions</th>\n",
       "    </tr>\n",
       "    <tr>\n",
       "      <th>Date</th>\n",
       "      <th></th>\n",
       "      <th></th>\n",
       "      <th></th>\n",
       "      <th></th>\n",
       "      <th></th>\n",
       "      <th></th>\n",
       "    </tr>\n",
       "  </thead>\n",
       "  <tbody>\n",
       "    <tr>\n",
       "      <th>2013-01-15</th>\n",
       "      <td>391.40</td>\n",
       "      <td>312.433207</td>\n",
       "      <td>391.192084</td>\n",
       "      <td>390.383793</td>\n",
       "      <td>387.890419</td>\n",
       "      <td>413.618792</td>\n",
       "    </tr>\n",
       "    <tr>\n",
       "      <th>2013-02-15</th>\n",
       "      <td>391.73</td>\n",
       "      <td>311.325790</td>\n",
       "      <td>391.346442</td>\n",
       "      <td>390.420106</td>\n",
       "      <td>387.891762</td>\n",
       "      <td>413.731670</td>\n",
       "    </tr>\n",
       "  </tbody>\n",
       "</table>\n",
       "</div>"
      ],
      "text/plain": [
       "            CO2 (ppm)  model_Predictions  mode2_Predictions  \\\n",
       "Date                                                          \n",
       "2013-01-15     391.40         312.433207         391.192084   \n",
       "2013-02-15     391.73         311.325790         391.346442   \n",
       "\n",
       "            mode3_Predictions  mode4_Predictions  mode5_Predictions  \n",
       "Date                                                                 \n",
       "2013-01-15         390.383793         387.890419         413.618792  \n",
       "2013-02-15         390.420106         387.891762         413.731670  "
      ]
     },
     "execution_count": 234,
     "metadata": {},
     "output_type": "execute_result"
    }
   ],
   "source": [
    "# inverse transforming\n",
    "true_predictions = scaler.inverse_transform(test_predictions)\n",
    "test['mode5_Predictions'] = true_predictions\n",
    "test.head(2)"
   ]
  },
  {
   "cell_type": "markdown",
   "id": "fdb68117",
   "metadata": {},
   "source": [
    "### The Best_of_Best (BoB)"
   ]
  },
  {
   "cell_type": "code",
   "execution_count": 235,
   "id": "d5e8b4be",
   "metadata": {},
   "outputs": [],
   "source": [
    "test = test[['CO2 (ppm)', 'model_Predictions', 'mode2_Predictions','mode3_Predictions', 'mode4_Predictions', 'mode5_Predictions']]"
   ]
  },
  {
   "cell_type": "code",
   "execution_count": 237,
   "id": "049e3111",
   "metadata": {},
   "outputs": [
    {
     "name": "stdout",
     "output_type": "stream",
     "text": [
      "Standar Deviation of CO2 (ppm):  29.748345754650526\n",
      "mean_absolute_error of model1 :  94.93309256710238\n",
      "mean_absolute_error of model2 :  3.921346803158479\n",
      "mean_absolute_error of model3 :  15.139835877488016\n",
      "mean_absolute_error of model4 :  18.614419628406527\n",
      "mean_absolute_error of model5 :  11.582742718060814\n"
     ]
    }
   ],
   "source": [
    "print(\"Standar Deviation of CO2 (ppm): \", df[\"CO2 (ppm)\"].std())\n",
    "print(\"mean_absolute_error of model1 : \" , mean_absolute_error(test[\"CO2 (ppm)\"], test[\"model_Predictions\"]))\n",
    "print(\"mean_absolute_error of model2 : \" , mean_absolute_error(test[\"CO2 (ppm)\"], test[\"mode2_Predictions\"]))\n",
    "print(\"mean_absolute_error of model3 : \" , mean_absolute_error(test[\"CO2 (ppm)\"], test[\"mode3_Predictions\"]))\n",
    "print(\"mean_absolute_error of model4 : \" , mean_absolute_error(test[\"CO2 (ppm)\"], test[\"mode4_Predictions\"]))\n",
    "print(\"mean_absolute_error of model5 : \" , mean_absolute_error(test[\"CO2 (ppm)\"], test[\"mode5_Predictions\"]))"
   ]
  },
  {
   "cell_type": "code",
   "execution_count": 261,
   "id": "4f954ef1",
   "metadata": {
    "scrolled": true
   },
   "outputs": [
    {
     "data": {
      "text/plain": [
       "<AxesSubplot:xlabel='Date'>"
      ]
     },
     "execution_count": 261,
     "metadata": {},
     "output_type": "execute_result"
    },
    {
     "data": {
      "image/png": "[encoded data removed]",
      "text/plain": [
       "<Figure size 576x432 with 1 Axes>"
      ]
     },
     "metadata": {
      "needs_background": "light"
     },
     "output_type": "display_data"
    }
   ],
   "source": [
    "test.plot(figsize=(8,6))"
   ]
  },
  {
   "cell_type": "markdown",
   "id": "f1e6607a",
   "metadata": {},
   "source": [
    "**Conclusion: Model2 is our BoB LSTM model.**"
   ]
  },
  {
   "cell_type": "code",
   "execution_count": 146,
   "id": "f56ff884",
   "metadata": {
    "scrolled": true
   },
   "outputs": [
    {
     "name": "stdout",
     "output_type": "stream",
     "text": [
      "Model: \"sequential_5\"\n",
      "_________________________________________________________________\n",
      " Layer (type)                Output Shape              Param #   \n",
      "=================================================================\n",
      " lstm_7 (LSTM)               (None, 400)               643200    \n",
      "                                                                 \n",
      " dense_5 (Dense)             (None, 1)                 401       \n",
      "                                                                 \n",
      "=================================================================\n",
      "Total params: 643,601\n",
      "Trainable params: 643,601\n",
      "Non-trainable params: 0\n",
      "_________________________________________________________________\n"
     ]
    }
   ],
   "source": [
    "model2.summary()"
   ]
  },
  {
   "cell_type": "markdown",
   "id": "bd299596",
   "metadata": {},
   "source": [
    "## Forecasting by BoB LSTM model (model2)"
   ]
  },
  {
   "cell_type": "code",
   "execution_count": 152,
   "id": "43e37437",
   "metadata": {},
   "outputs": [],
   "source": [
    "# step 11: Retrain on whole dataset and Forecasting\n",
    "scaler = MinMaxScaler()\n",
    "scaled_full_data = scaler.fit_transform(df)"
   ]
  },
  {
   "cell_type": "code",
   "execution_count": 153,
   "id": "3ca65706",
   "metadata": {},
   "outputs": [],
   "source": [
    "# Generating TimeSery by whole df dataset\n",
    "length = 84\n",
    "generator = TimeseriesGenerator(scaled_full_data, scaled_full_data, length=length, batch_size=1)"
   ]
  },
  {
   "cell_type": "code",
   "execution_count": 154,
   "id": "17d43bcd",
   "metadata": {},
   "outputs": [],
   "source": [
    "# Second Architect\n",
    "n_features = 1 # n_features: the number of features in TimeSeries (here is 1 feature which changed monthly)\n",
    "\n",
    "# define model\n",
    "model2 = Sequential()\n",
    "model2.add(LSTM(400, activation='relu', input_shape=(length, n_features)))#\n",
    "model2.add(Dense(1)) # model Output is one\n",
    "model2.compile(optimizer='adam', loss='mse')"
   ]
  },
  {
   "cell_type": "code",
   "execution_count": 155,
   "id": "20840566",
   "metadata": {},
   "outputs": [
    {
     "name": "stdout",
     "output_type": "stream",
     "text": [
      "Epoch 1/4\n"
     ]
    },
    {
     "name": "stderr",
     "output_type": "stream",
     "text": [
      "C:\\Users\\resea\\AppData\\Local\\Temp\\ipykernel_8052\\3173491005.py:2: UserWarning: `Model.fit_generator` is deprecated and will be removed in a future version. Please use `Model.fit`, which supports generators.\n",
      "  model2.fit_generator(generator,epochs=4) # Choosing epochs regarding the performance of losses in pervious step\n"
     ]
    },
    {
     "name": "stdout",
     "output_type": "stream",
     "text": [
      "708/708 [==============================] - 118s 165ms/step - loss: 0.0156\n",
      "Epoch 2/4\n",
      "708/708 [==============================] - 112s 158ms/step - loss: 1.5725e-04\n",
      "Epoch 3/4\n",
      "708/708 [==============================] - 111s 157ms/step - loss: 7.7958e-05\n",
      "Epoch 4/4\n",
      "708/708 [==============================] - 112s 159ms/step - loss: 1.2116e-04\n"
     ]
    },
    {
     "data": {
      "text/plain": [
       "<keras.callbacks.History at 0x1c0dc8daa00>"
      ]
     },
     "execution_count": 155,
     "metadata": {},
     "output_type": "execute_result"
    }
   ],
   "source": [
    "# fit model\n",
    "model2.fit_generator(generator,epochs=4) # Choosing epochs regarding the performance of losses in pervious step"
   ]
  },
  {
   "cell_type": "code",
   "execution_count": 195,
   "id": "3b40e3a1",
   "metadata": {},
   "outputs": [],
   "source": [
    "forecast = []\n",
    "# Replace periods with whatever forecast length you want\n",
    "periods = 72\n",
    "first_eval_batch = scaled_full_data[-length:]\n",
    "current_batch = first_eval_batch.reshape((1, length, n_features))"
   ]
  },
  {
   "cell_type": "code",
   "execution_count": 196,
   "id": "1308033a",
   "metadata": {},
   "outputs": [
    {
     "name": "stdout",
     "output_type": "stream",
     "text": [
      "1/1 [==============================] - 0s 253ms/step\n",
      "1/1 [==============================] - 0s 42ms/step\n",
      "1/1 [==============================] - 0s 45ms/step\n",
      "1/1 [==============================] - 0s 94ms/step\n",
      "1/1 [==============================] - 0s 44ms/step\n",
      "1/1 [==============================] - 0s 52ms/step\n",
      "1/1 [==============================] - 0s 42ms/step\n",
      "1/1 [==============================] - 0s 51ms/step\n",
      "1/1 [==============================] - 0s 36ms/step\n",
      "1/1 [==============================] - 0s 45ms/step\n",
      "1/1 [==============================] - 0s 42ms/step\n",
      "1/1 [==============================] - 0s 50ms/step\n",
      "1/1 [==============================] - 0s 51ms/step\n",
      "1/1 [==============================] - 0s 51ms/step\n",
      "1/1 [==============================] - 0s 39ms/step\n",
      "1/1 [==============================] - 0s 39ms/step\n",
      "1/1 [==============================] - 0s 38ms/step\n",
      "1/1 [==============================] - 0s 41ms/step\n",
      "1/1 [==============================] - 0s 40ms/step\n",
      "1/1 [==============================] - 0s 37ms/step\n",
      "1/1 [==============================] - 0s 51ms/step\n",
      "1/1 [==============================] - 0s 54ms/step\n",
      "1/1 [==============================] - 0s 43ms/step\n",
      "1/1 [==============================] - 0s 43ms/step\n",
      "1/1 [==============================] - 0s 41ms/step\n",
      "1/1 [==============================] - 0s 41ms/step\n",
      "1/1 [==============================] - 0s 37ms/step\n",
      "1/1 [==============================] - 0s 38ms/step\n",
      "1/1 [==============================] - 0s 43ms/step\n",
      "1/1 [==============================] - 0s 38ms/step\n",
      "1/1 [==============================] - 0s 38ms/step\n",
      "1/1 [==============================] - 0s 39ms/step\n",
      "1/1 [==============================] - 0s 39ms/step\n",
      "1/1 [==============================] - 0s 40ms/step\n",
      "1/1 [==============================] - 0s 41ms/step\n",
      "1/1 [==============================] - 0s 40ms/step\n",
      "1/1 [==============================] - 0s 39ms/step\n",
      "1/1 [==============================] - 0s 37ms/step\n",
      "1/1 [==============================] - 0s 38ms/step\n",
      "1/1 [==============================] - 0s 39ms/step\n",
      "1/1 [==============================] - 0s 39ms/step\n",
      "1/1 [==============================] - 0s 47ms/step\n",
      "1/1 [==============================] - 0s 38ms/step\n",
      "1/1 [==============================] - 0s 46ms/step\n",
      "1/1 [==============================] - 0s 42ms/step\n",
      "1/1 [==============================] - 0s 38ms/step\n",
      "1/1 [==============================] - 0s 38ms/step\n",
      "1/1 [==============================] - 0s 40ms/step\n",
      "1/1 [==============================] - 0s 40ms/step\n",
      "1/1 [==============================] - 0s 39ms/step\n",
      "1/1 [==============================] - 0s 37ms/step\n",
      "1/1 [==============================] - 0s 39ms/step\n",
      "1/1 [==============================] - 0s 49ms/step\n",
      "1/1 [==============================] - 0s 52ms/step\n",
      "1/1 [==============================] - 0s 51ms/step\n",
      "1/1 [==============================] - 0s 53ms/step\n",
      "1/1 [==============================] - 0s 37ms/step\n",
      "1/1 [==============================] - 0s 39ms/step\n",
      "1/1 [==============================] - 0s 37ms/step\n",
      "1/1 [==============================] - 0s 46ms/step\n",
      "1/1 [==============================] - 0s 53ms/step\n",
      "1/1 [==============================] - 0s 51ms/step\n",
      "1/1 [==============================] - 0s 37ms/step\n",
      "1/1 [==============================] - 0s 39ms/step\n",
      "1/1 [==============================] - 0s 51ms/step\n",
      "1/1 [==============================] - 0s 35ms/step\n",
      "1/1 [==============================] - 0s 41ms/step\n",
      "1/1 [==============================] - 0s 52ms/step\n",
      "1/1 [==============================] - 0s 50ms/step\n",
      "1/1 [==============================] - 0s 39ms/step\n",
      "1/1 [==============================] - 0s 37ms/step\n",
      "1/1 [==============================] - 0s 38ms/step\n"
     ]
    }
   ],
   "source": [
    "for i in range(periods):\n",
    "    current_pred = model2.predict(current_batch)[0]\n",
    "    forecast.append(current_pred) \n",
    "    current_batch = np.append(current_batch[:,1:,:],[[current_pred]],axis=1)"
   ]
  },
  {
   "cell_type": "code",
   "execution_count": 197,
   "id": "09939660",
   "metadata": {},
   "outputs": [
    {
     "data": {
      "text/plain": [
       "array([[417.17571747],\n",
       "       [417.49159546],\n",
       "       [417.81825821],\n",
       "       [418.15410889],\n",
       "       [418.49814026],\n",
       "       [418.84930824],\n",
       "       [419.20691269],\n",
       "       [419.57040085],\n",
       "       [419.93902344],\n",
       "       [420.31248566],\n",
       "       [420.69041901],\n",
       "       [421.0727375 ],\n",
       "       [421.45934288],\n",
       "       [421.85022285],\n",
       "       [422.24536514],\n",
       "       [422.64478203],\n",
       "       [423.04851036],\n",
       "       [423.45666069],\n",
       "       [423.8692453 ],\n",
       "       [424.28642387],\n",
       "       [424.70825783],\n",
       "       [425.13480858],\n",
       "       [425.56627266],\n",
       "       [426.00260094],\n",
       "       [426.44410049],\n",
       "       [426.89085732],\n",
       "       [427.34292053],\n",
       "       [427.80048668],\n",
       "       [428.26372772],\n",
       "       [428.73274193],\n",
       "       [429.20766441],\n",
       "       [429.68876541],\n",
       "       [430.17611862],\n",
       "       [430.66987144],\n",
       "       [431.1703064 ],\n",
       "       [431.67750946],\n",
       "       [432.1917263 ],\n",
       "       [432.71304291],\n",
       "       [433.24179092],\n",
       "       [433.77804405],\n",
       "       [434.32206024],\n",
       "       [434.87408516],\n",
       "       [435.43427849],\n",
       "       [436.00297188],\n",
       "       [436.58032501],\n",
       "       [437.16669411],\n",
       "       [437.76228798],\n",
       "       [438.36756111],\n",
       "       [438.98261177],\n",
       "       [439.60769791],\n",
       "       [440.24296692],\n",
       "       [440.88893471],\n",
       "       [441.54567497],\n",
       "       [442.21348251],\n",
       "       [442.89279953],\n",
       "       [443.58406822],\n",
       "       [444.28758339],\n",
       "       [445.00377495],\n",
       "       [445.73314651],\n",
       "       [446.47599289],\n",
       "       [447.23284225],\n",
       "       [448.00409996],\n",
       "       [448.79038017],\n",
       "       [449.59212509],\n",
       "       [450.40988747],\n",
       "       [451.24424461],\n",
       "       [452.0958844 ],\n",
       "       [452.96543327],\n",
       "       [453.85359138],\n",
       "       [454.76109573],\n",
       "       [455.68860962],\n",
       "       [456.63687004]])"
      ]
     },
     "execution_count": 197,
     "metadata": {},
     "output_type": "execute_result"
    }
   ],
   "source": [
    "forecast = scaler.inverse_transform(forecast)\n",
    "forecast"
   ]
  },
  {
   "cell_type": "code",
   "execution_count": 198,
   "id": "db0bfe25",
   "metadata": {},
   "outputs": [
    {
     "data": {
      "text/html": [
       "<div>\n",
       "<style scoped>\n",
       "    .dataframe tbody tr th:only-of-type {\n",
       "        vertical-align: middle;\n",
       "    }\n",
       "\n",
       "    .dataframe tbody tr th {\n",
       "        vertical-align: top;\n",
       "    }\n",
       "\n",
       "    .dataframe thead th {\n",
       "        text-align: right;\n",
       "    }\n",
       "</style>\n",
       "<table border=\"1\" class=\"dataframe\">\n",
       "  <thead>\n",
       "    <tr style=\"text-align: right;\">\n",
       "      <th></th>\n",
       "      <th>CO2 (ppm)</th>\n",
       "    </tr>\n",
       "    <tr>\n",
       "      <th>Date</th>\n",
       "      <th></th>\n",
       "    </tr>\n",
       "  </thead>\n",
       "  <tbody>\n",
       "    <tr>\n",
       "      <th>2022-08-15</th>\n",
       "      <td>414.97</td>\n",
       "    </tr>\n",
       "    <tr>\n",
       "      <th>2022-09-15</th>\n",
       "      <td>415.20</td>\n",
       "    </tr>\n",
       "    <tr>\n",
       "      <th>2022-10-15</th>\n",
       "      <td>415.42</td>\n",
       "    </tr>\n",
       "    <tr>\n",
       "      <th>2022-11-15</th>\n",
       "      <td>415.65</td>\n",
       "    </tr>\n",
       "    <tr>\n",
       "      <th>2022-12-15</th>\n",
       "      <td>415.87</td>\n",
       "    </tr>\n",
       "  </tbody>\n",
       "</table>\n",
       "</div>"
      ],
      "text/plain": [
       "            CO2 (ppm)\n",
       "Date                 \n",
       "2022-08-15     414.97\n",
       "2022-09-15     415.20\n",
       "2022-10-15     415.42\n",
       "2022-11-15     415.65\n",
       "2022-12-15     415.87"
      ]
     },
     "execution_count": 198,
     "metadata": {},
     "output_type": "execute_result"
    }
   ],
   "source": [
    "### Creating new timestamp index with pandas\n",
    "df.tail(5)"
   ]
  },
  {
   "cell_type": "code",
   "execution_count": 199,
   "id": "2995915e",
   "metadata": {},
   "outputs": [
    {
     "data": {
      "text/plain": [
       "DatetimeIndex(['2023-01-15', '2023-02-15', '2023-03-15', '2023-04-15',\n",
       "               '2023-05-15', '2023-06-15', '2023-07-15', '2023-08-15',\n",
       "               '2023-09-15', '2023-10-15', '2023-11-15', '2023-12-15',\n",
       "               '2024-01-15', '2024-02-15', '2024-03-15', '2024-04-15',\n",
       "               '2024-05-15', '2024-06-15', '2024-07-15', '2024-08-15',\n",
       "               '2024-09-15', '2024-10-15', '2024-11-15', '2024-12-15',\n",
       "               '2025-01-15', '2025-02-15', '2025-03-15', '2025-04-15',\n",
       "               '2025-05-15', '2025-06-15', '2025-07-15', '2025-08-15',\n",
       "               '2025-09-15', '2025-10-15', '2025-11-15', '2025-12-15',\n",
       "               '2026-01-15', '2026-02-15', '2026-03-15', '2026-04-15',\n",
       "               '2026-05-15', '2026-06-15', '2026-07-15', '2026-08-15',\n",
       "               '2026-09-15', '2026-10-15', '2026-11-15', '2026-12-15',\n",
       "               '2027-01-15', '2027-02-15', '2027-03-15', '2027-04-15',\n",
       "               '2027-05-15', '2027-06-15', '2027-07-15', '2027-08-15',\n",
       "               '2027-09-15', '2027-10-15', '2027-11-15', '2027-12-15',\n",
       "               '2028-01-15', '2028-02-15', '2028-03-15', '2028-04-15',\n",
       "               '2028-05-15', '2028-06-15', '2028-07-15', '2028-08-15',\n",
       "               '2028-09-15', '2028-10-15', '2028-11-15', '2028-12-15'],\n",
       "              dtype='datetime64[ns]', freq=None)"
      ]
     },
     "execution_count": 199,
     "metadata": {},
     "output_type": "execute_result"
    }
   ],
   "source": [
    "from datetime import timedelta\n",
    "forecast_index = pd.date_range(start='2022-12-15',periods=periods,freq='MS')+timedelta(days=14)\n",
    "forecast_index"
   ]
  },
  {
   "cell_type": "code",
   "execution_count": 200,
   "id": "063d810c",
   "metadata": {},
   "outputs": [
    {
     "data": {
      "text/html": [
       "<div>\n",
       "<style scoped>\n",
       "    .dataframe tbody tr th:only-of-type {\n",
       "        vertical-align: middle;\n",
       "    }\n",
       "\n",
       "    .dataframe tbody tr th {\n",
       "        vertical-align: top;\n",
       "    }\n",
       "\n",
       "    .dataframe thead th {\n",
       "        text-align: right;\n",
       "    }\n",
       "</style>\n",
       "<table border=\"1\" class=\"dataframe\">\n",
       "  <thead>\n",
       "    <tr style=\"text-align: right;\">\n",
       "      <th></th>\n",
       "      <th>Forecast</th>\n",
       "    </tr>\n",
       "  </thead>\n",
       "  <tbody>\n",
       "    <tr>\n",
       "      <th>2023-01-15</th>\n",
       "      <td>417.175717</td>\n",
       "    </tr>\n",
       "    <tr>\n",
       "      <th>2023-02-15</th>\n",
       "      <td>417.491595</td>\n",
       "    </tr>\n",
       "  </tbody>\n",
       "</table>\n",
       "</div>"
      ],
      "text/plain": [
       "              Forecast\n",
       "2023-01-15  417.175717\n",
       "2023-02-15  417.491595"
      ]
     },
     "execution_count": 200,
     "metadata": {},
     "output_type": "execute_result"
    }
   ],
   "source": [
    "forecast_CO2 = pd.DataFrame(data=forecast,index=forecast_index, columns=['Forecast'])\n",
    "forecast_CO2.head(2)"
   ]
  },
  {
   "cell_type": "code",
   "execution_count": 203,
   "id": "ec960961",
   "metadata": {},
   "outputs": [
    {
     "data": {
      "text/plain": [
       "<AxesSubplot:>"
      ]
     },
     "execution_count": 203,
     "metadata": {},
     "output_type": "execute_result"
    },
    {
     "data": {
      "image/png": "[encoded data removed]",
      "text/plain": [
       "<Figure size 432x288 with 1 Axes>"
      ]
     },
     "metadata": {
      "needs_background": "light"
     },
     "output_type": "display_data"
    },
    {
     "data": {
      "image/png": "[encoded data removed]",
      "text/plain": [
       "<Figure size 432x288 with 1 Axes>"
      ]
     },
     "metadata": {
      "needs_background": "light"
     },
     "output_type": "display_data"
    }
   ],
   "source": [
    "#plotting\n",
    "df.plot()\n",
    "forecast_CO2.plot(c=\"r\")"
   ]
  },
  {
   "cell_type": "code",
   "execution_count": 242,
   "id": "e2047a17",
   "metadata": {},
   "outputs": [
    {
     "data": {
      "text/plain": [
       "<AxesSubplot:xlabel='Date'>"
      ]
     },
     "execution_count": 242,
     "metadata": {},
     "output_type": "execute_result"
    },
    {
     "data": {
      "image/png": "[encoded data removed]",
      "text/plain": [
       "<Figure size 432x288 with 1 Axes>"
      ]
     },
     "metadata": {
      "needs_background": "light"
     },
     "output_type": "display_data"
    }
   ],
   "source": [
    "# Joining Plots\n",
    "ax = df.plot()\n",
    "forecast_CO2.plot(ax=ax)"
   ]
  },
  {
   "cell_type": "code",
   "execution_count": 238,
   "id": "ba75efd3",
   "metadata": {},
   "outputs": [
    {
     "data": {
      "text/plain": [
       "(410.0, 463.82721354293824)"
      ]
     },
     "execution_count": 238,
     "metadata": {},
     "output_type": "execute_result"
    },
    {
     "data": {
      "image/png": "[encoded data removed]",
      "text/plain": [
       "<Figure size 432x288 with 1 Axes>"
      ]
     },
     "metadata": {
      "needs_background": "light"
     },
     "output_type": "display_data"
    }
   ],
   "source": [
    "# Zoom in on plot\n",
    "ax = df.plot()\n",
    "forecast_CO2.plot(ax=ax, c = \"r\")\n",
    "plt.xlim('2022-06-15','2030-01-15')\n",
    "plt.ylim(410,)"
   ]
  },
  {
   "cell_type": "markdown",
   "id": "9ae7355e",
   "metadata": {},
   "source": [
    "## Saving Final model"
   ]
  },
  {
   "cell_type": "code",
   "execution_count": 278,
   "id": "4a5f5138",
   "metadata": {},
   "outputs": [],
   "source": [
    "from tensorflow.keras.models import load_model\n",
    "\n",
    "model2.save('model_LSTM_CO2.h5')\n",
    "del model2  # deletes the existing model"
   ]
  },
  {
   "cell_type": "code",
   "execution_count": 275,
   "id": "5debd29b",
   "metadata": {},
   "outputs": [],
   "source": [
    "# returns a compiled model\n",
    "# identical to the previous one\n",
    "#model2 = load_model('model_LSTM_CO2.h5')"
   ]
  },
  {
   "cell_type": "code",
   "execution_count": 277,
   "id": "7998859d",
   "metadata": {},
   "outputs": [],
   "source": [
    "#model2.summary()"
   ]
  },
  {
   "cell_type": "code",
   "execution_count": null,
   "id": "2dd41dc0",
   "metadata": {},
   "outputs": [],
   "source": []
  }
 ],
 "metadata": {
  "kernelspec": {
   "display_name": "Python 3 (ipykernel)",
   "language": "python",
   "name": "python3"
  },
  "language_info": {
   "codemirror_mode": {
    "name": "ipython",
    "version": 3
   },
   "file_extension": ".py",
   "mimetype": "text/x-python",
   "name": "python",
   "nbconvert_exporter": "python",
   "pygments_lexer": "ipython3",
   "version": "3.9.12"
  }
 },
 "nbformat": 4,
 "nbformat_minor": 5
}
